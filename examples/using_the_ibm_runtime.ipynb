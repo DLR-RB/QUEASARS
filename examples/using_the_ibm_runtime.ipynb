{
 "cells": [
  {
   "cell_type": "code",
   "execution_count": 1,
   "metadata": {
    "collapsed": true,
    "jupyter": {
     "outputs_hidden": true
    },
    "ExecuteTime": {
     "end_time": "2024-05-29T08:45:09.178947Z",
     "start_time": "2024-05-29T08:45:09.154644700Z"
    }
   },
   "outputs": [],
   "source": [
    "from pathlib import Path\n",
    "import os\n",
    "import sys\n",
    "\n",
    "main_directory = Path(os.path.abspath(\"\")).parent\n",
    "sys.path.append(str(main_directory))"
   ]
  },
  {
   "cell_type": "markdown",
   "metadata": {
    "collapsed": false
   },
   "source": [
    "## Create a JSSP problem instance"
   ]
  },
  {
   "cell_type": "code",
   "execution_count": 2,
   "outputs": [],
   "source": [
    "from queasars.job_shop_scheduling.problem_instances import Machine, Operation, Job, JobShopSchedulingProblemInstance\n",
    "\n",
    "machines = (Machine(name=\"m0\"), Machine(name=\"m1\"))\n",
    "\n",
    "j0op1 = Operation(name=\"j0op0\", machine=machines[0], processing_duration=2, job_name=\"j0\")\n",
    "j0op2 = Operation(name=\"j0op1\", machine=machines[1], processing_duration=1, job_name=\"j0\")\n",
    "job0 = Job(name=\"j0\", operations=(j0op1, j0op2))\n",
    "\n",
    "j1op1 = Operation(name=\"j1op1\", machine=machines[0], processing_duration=1, job_name=\"j1\")\n",
    "j1op2 = Operation(name=\"j1op2\", machine=machines[1], processing_duration=2, job_name=\"j1\")\n",
    "job1 = Job(name=\"j1\", operations=(j1op1, j1op2))\n",
    "\n",
    "jssp_instance = JobShopSchedulingProblemInstance(name=\"Simple Instance\", machines=machines, jobs=(job0, job1))"
   ],
   "metadata": {
    "collapsed": false,
    "ExecuteTime": {
     "end_time": "2024-05-29T08:45:09.199946500Z",
     "start_time": "2024-05-29T08:45:09.160667300Z"
    }
   }
  },
  {
   "cell_type": "markdown",
   "source": [
    "## Visualize the created problem instance (optional)"
   ],
   "metadata": {
    "collapsed": false
   }
  },
  {
   "cell_type": "code",
   "execution_count": 3,
   "outputs": [
    {
     "data": {
      "text/plain": "<Figure size 640x480 with 1 Axes>",
      "image/png": "[encoded data removed]"
     },
     "metadata": {},
     "output_type": "display_data"
    }
   ],
   "source": [
    "from queasars.job_shop_scheduling.visualization import plot_jssp_problem_instance_gantt\n",
    "\n",
    "plot = plot_jssp_problem_instance_gantt(problem_instance=jssp_instance)"
   ],
   "metadata": {
    "collapsed": false,
    "ExecuteTime": {
     "end_time": "2024-05-29T08:45:09.851875200Z",
     "start_time": "2024-05-29T08:45:09.174947600Z"
    }
   }
  },
  {
   "cell_type": "markdown",
   "source": [
    "## Convert the problem instance to a hamiltonian"
   ],
   "metadata": {
    "collapsed": false
   }
  },
  {
   "cell_type": "code",
   "execution_count": 4,
   "outputs": [
    {
     "name": "stdout",
     "output_type": "stream",
     "text": [
      "needed qubits:  8\n"
     ]
    }
   ],
   "source": [
    "from queasars.job_shop_scheduling.domain_wall_hamiltonian_encoder import JSSPDomainWallHamiltonianEncoder\n",
    "\n",
    "encoder = JSSPDomainWallHamiltonianEncoder(jssp_instance=jssp_instance, makespan_limit=5)\n",
    "\n",
    "print(\"needed qubits: \", encoder.n_qubits)\n",
    "\n",
    "hamiltonian = encoder.get_problem_hamiltonian()"
   ],
   "metadata": {
    "collapsed": false,
    "ExecuteTime": {
     "end_time": "2024-05-29T08:45:10.390879900Z",
     "start_time": "2024-05-29T08:45:09.846864600Z"
    }
   }
  },
  {
   "cell_type": "code",
   "execution_count": 5,
   "outputs": [],
   "source": [
    "from qiskit import QuantumCircuit\n",
    "from qiskit.primitives import SamplerResult\n",
    "from qiskit.primitives.base import BaseSamplerV1\n",
    "from qiskit.primitives.primitive_job import PrimitiveJob\n",
    "from qiskit.transpiler import PassManager\n",
    "\n",
    "# Sampler Primitive Wrapper to adjust for qiskit_ibm_runtime_primitives no longer \n",
    "# offering cloud transpilation for free\n",
    "class TranspilingSampler(BaseSamplerV1):\n",
    "    def __init__(self, sampler: BaseSamplerV1, pass_manager: PassManager):\n",
    "        super().__init__()\n",
    "        self._sampler = sampler\n",
    "        self._pass_manager = pass_manager\n",
    "\n",
    "    def _run(\n",
    "        self, circuits: tuple[QuantumCircuit, ...], parameter_values: tuple[tuple[float, ...], ...], **run_options\n",
    "    ) -> PrimitiveJob[SamplerResult]:\n",
    "        applied_circuits = [circuit.assign_parameters(params) for circuit, params in zip(circuits, parameter_values)]\n",
    "        transpiled_circuits = self._pass_manager.run(applied_circuits)\n",
    "        return self._sampler.run(transpiled_circuits, **run_options)"
   ],
   "metadata": {
    "collapsed": false,
    "ExecuteTime": {
     "end_time": "2024-05-29T08:45:10.420286600Z",
     "start_time": "2024-05-29T08:45:10.389163300Z"
    }
   }
  },
  {
   "cell_type": "markdown",
   "metadata": {
    "collapsed": false
   },
   "source": [
    "## Setup and run the EVQEMinimumEigensolver"
   ]
  },
  {
   "cell_type": "code",
   "execution_count": 6,
   "metadata": {
    "collapsed": false,
    "ExecuteTime": {
     "end_time": "2024-05-29T08:46:11.519342900Z",
     "start_time": "2024-05-29T08:45:10.425284Z"
    }
   },
   "outputs": [
    {
     "name": "stderr",
     "output_type": "stream",
     "text": [
      "C:\\Users\\shark\\AppData\\Local\\pypoetry\\Cache\\virtualenvs\\queasars-jkqbWnG0-py3.11\\Lib\\site-packages\\qiskit_ibm_runtime\\session.py:157: UserWarning: Session is not supported in local testing mode or when using a simulator.\n",
      "  warnings.warn(\n",
      "C:\\Users\\shark\\AppData\\Local\\Temp\\ipykernel_4900\\2634276111.py:28: DeprecationWarning: The Sampler and Estimator V1 primitives have been deprecated as of qiskit-ibm-runtime 0.23.0 and will be removed no sooner than 3 months after the release date. Please use the V2 Primitives. See the `V2 migration guide <https://docs.quantum.ibm.com/api/migration-guides/v2-primitives>`_. for more details\n",
      "  sampler = Sampler(session=batch, options={\"shots\": 512, \"optimization_level\": 0, \"resilience_level\": 0})\n",
      "Starting evolution!\n",
      "Results for generation: 0\n",
      "Current best expectation value: 37.065972\n",
      "Current median expectation value: 122.222222\n",
      "Current average expectation value: 110.460069\n",
      "Results for generation: 1\n",
      "Current best expectation value: 22.222222\n",
      "Current median expectation value: 22.222222\n",
      "Current average expectation value: 44.696181\n",
      "Results for generation: 2\n",
      "Current best expectation value: 22.222222\n",
      "Current median expectation value: 22.222222\n",
      "Current average expectation value: 22.430556\n"
     ]
    }
   ],
   "source": [
    "import logging\n",
    "\n",
    "from qiskit_algorithms.optimizers import SPSA\n",
    "from qiskit_ibm_runtime import QiskitRuntimeService, Batch, Sampler\n",
    "from qiskit_ibm_runtime.fake_provider.backends import FakeOsaka\n",
    "from qiskit.transpiler.preset_passmanagers import generate_preset_pass_manager\n",
    "\n",
    "from queasars.utility.spsa_termination import SPSATerminationChecker\n",
    "from queasars.minimum_eigensolvers.evqe.evqe import EVQEMinimumEigensolverConfiguration, EVQEMinimumEigensolver\n",
    "\n",
    "# Connect to the runtime service using your IBM quantum token\n",
    "runtime_service = QiskitRuntimeService(channel=\"ibm_quantum\", token=\"Your token here!\")\n",
    "\n",
    "# Uncomment the second line and replace the backend name accordingly if you want to use real Quantum Hardware!\n",
    "backend = FakeOsaka()\n",
    "#backend = runtime_service.backend(\"ibm_kyoto\")\n",
    "\n",
    "# setup a pass manager to setup the transpilation process\n",
    "pass_manager = generate_preset_pass_manager(optimization_level=1, backend=backend)\n",
    "\n",
    "# Set up a session so that consecutive jobs may run in short succession.\n",
    "with Batch(service=runtime_service, backend=backend) as batch:\n",
    "    \n",
    "    # The EVQEMinimumEigensolver needs at least a sampler and can also use an estimator.\n",
    "    # Here we only use a sampler, as the Critical Value at Risk objective value can\n",
    "    # can only be used when only using the sampler.\n",
    "    sampler = Sampler(session=batch, options={\"shots\": 512, \"optimization_level\": 0, \"resilience_level\": 0})\n",
    "    sampler = TranspilingSampler(sampler, pass_manager)\n",
    "    estimator = None\n",
    "\n",
    "    # If only a sampler is used, the expectation value with respect to the Hamiltonian\n",
    "    # is calculated using the measurement distribution provided by the sampler. This\n",
    "    # expectation value can also be calculated over only the lower tail of that distribution.\n",
    "    # In that case the objective score is also called the Critical Value at Risk.\n",
    "    distribution_alpha_tail = 0.5\n",
    "\n",
    "    # The EVQEMinimumEigensolver also needs a qiskit optimizer. It should be\n",
    "    # configured to terminate quickly, so that mutations are not overtly expensive.\n",
    "    # Here we use the SPSA optimizer with a very limited amount of iterations and a\n",
    "    # large step size.\n",
    "    termination_checker = SPSATerminationChecker(minimum_relative_change=0.01, allowed_consecutive_violations=2)\n",
    "    optimizer = SPSA(maxiter=33, perturbation=0.35, learning_rate=0.43, trust_region=True, last_avg=1, resamplings=1, termination_checker=termination_checker.termination_check)\n",
    "    \n",
    "    # To help the EVQEMinimumEigensolver deal correctly with terminations based\n",
    "    # on the amount of circuit evaluations used, an estimate can be given for how\n",
    "    # many circuit evaluations the optimizer uses per optimization run.\n",
    "    # SPSA makes two measurements per gradient approximation, which means in total it will\n",
    "    # need 66 circuit evaluations for 33 iterations.\n",
    "    optimizer_n_circuit_evaluations = 66\n",
    "    \n",
    "    # To specify when the EVQEMinimumEigensolver should terminate either max_generations,\n",
    "    # max_circuit_evaluations or a termination_criterion should be given.\n",
    "    # Here we set a fixed generation limit, to reduce the runtime usage.\n",
    "    max_generations = 3\n",
    "    max_circuit_evaluations = None\n",
    "    termination_criterion = None\n",
    "    \n",
    "    # A random seed can be provided to control the randomness of the evolutionary process.\n",
    "    random_seed = None\n",
    "    \n",
    "    # The population size determines how many individuals are evaluated each generation.\n",
    "    # With a higher population size, fewer generations might be needed, but this also\n",
    "    # makes each generation more expensive to evaluate.\n",
    "    population_size = 5\n",
    "    \n",
    "    # The initial individuals in the starting population can be initialized with\n",
    "    # an arbitrary amount of layers and fully randomized parameter values. This\n",
    "    # can be particularly useful if the state |0 .. 0> is a local minima and\n",
    "    # the individuals should not start in that state\n",
    "    n_initial_layers = 1\n",
    "    randomize_initial_parameter_values = True\n",
    "    \n",
    "    # Determines how many circuit layers apart two individuals need to be, to be considered to\n",
    "    # be of a different species. Reasonable values might be in the range 1 - 5.\n",
    "    speciation_genetic_distance_threshold = 1\n",
    "\n",
    "    # This implementation of EVQE offers both roulette wheel selection and tournament selection.\n",
    "    # Since tournament selection is more robust, we use it here.\n",
    "    use_tournament_selection = True\n",
    "    tournament_size = 2\n",
    "\n",
    "    # The alpha and beta penalties penalize quantum circuits of increasing depth (alpha) and\n",
    "    # increasing amount of controlled rotations (beta). increase them if the quantum circuits get to\n",
    "    # deep or complicated.\n",
    "    selection_alpha_penalty = 0.15\n",
    "    selection_beta_penalty = 0.02\n",
    "    \n",
    "    # The parameter search probability determines how likely an individual is mutated by optimizing\n",
    "    # all it's parameter values. This should not be too large as this is costly.\n",
    "    parameter_search_probability = 0.39\n",
    "    \n",
    "    # The topological search probability determines how likely a circuit layer is added to an individual\n",
    "    # as a mutation. This should be a higher probability to encourage exploration of different circuits.\n",
    "    topological_search_probability = 0.79\n",
    "    \n",
    "    # The layer removal probability determines how likely circuit layers are removed from an individual\n",
    "    # as a mutation. This is a very disruptive mutation and should only be used sparingly to counteract\n",
    "    # circuit growth.\n",
    "    layer_removal_probability = 0.02\n",
    "    \n",
    "    # An executor for launching parallel computation can be specified.\n",
    "    # This can be a dask Client or a python ThreadPoolExecutor. If None is\n",
    "    # specified a ThreadPoolExecutor with population_size many threads will\n",
    "    # be used\n",
    "    parallel_executor = None\n",
    "    \n",
    "    # Discerns whether to only allow mutually exclusive access to the Sampler and\n",
    "    # Estimator primitive respectively. This is needed if the Sampler or Estimator are not threadsafe and\n",
    "    # a ThreadPoolExecutor with more than one thread or a Dask Client with more than one thread per process is used.\n",
    "    # For safety reasons this is enabled by default. If the sampler and estimator are threadsafe disabling this\n",
    "    # option may lead to performance improvements\n",
    "    mutually_exclusive_primitives = True\n",
    "    \n",
    "    configuration = EVQEMinimumEigensolverConfiguration(\n",
    "        sampler=sampler,\n",
    "        estimator=estimator,\n",
    "        distribution_alpha_tail=distribution_alpha_tail,\n",
    "        optimizer=optimizer,\n",
    "        optimizer_n_circuit_evaluations=optimizer_n_circuit_evaluations,\n",
    "        max_generations=max_generations,\n",
    "        max_circuit_evaluations=max_circuit_evaluations,\n",
    "        termination_criterion=termination_criterion,\n",
    "        random_seed=random_seed,\n",
    "        population_size=population_size,\n",
    "        n_initial_layers=n_initial_layers,\n",
    "        randomize_initial_population_parameters=randomize_initial_parameter_values,\n",
    "        speciation_genetic_distance_threshold=speciation_genetic_distance_threshold,\n",
    "        use_tournament_selection=use_tournament_selection,\n",
    "        tournament_size=tournament_size,\n",
    "        selection_alpha_penalty=selection_alpha_penalty,\n",
    "        selection_beta_penalty=selection_beta_penalty,\n",
    "        parameter_search_probability=parameter_search_probability,\n",
    "        topological_search_probability=topological_search_probability,\n",
    "        layer_removal_probability=layer_removal_probability,\n",
    "        parallel_executor=parallel_executor,\n",
    "        mutually_exclusive_primitives=mutually_exclusive_primitives,\n",
    "    )\n",
    "    \n",
    "    eigensolver = EVQEMinimumEigensolver(configuration=configuration)\n",
    "    \n",
    "    logger = logging.getLogger(\"queasars.minimum_eigensolvers.base.evolving_ansatz_minimum_eigensolver\")\n",
    "    handler = logging.StreamHandler()\n",
    "    logger.setLevel(logging.INFO)\n",
    "    logger.addHandler(handler)\n",
    "\n",
    "    result = eigensolver.compute_minimum_eigenvalue(operator=hamiltonian)"
   ]
  },
  {
   "cell_type": "markdown",
   "source": [
    "# Serialize and store the results"
   ],
   "metadata": {
    "collapsed": false
   }
  },
  {
   "cell_type": "code",
   "outputs": [],
   "source": [
    "from json import dump\n",
    "from queasars.minimum_eigensolvers.base.serialization import EvolvingAnsatzMinimumEigensolverResultJSONEncoder\n",
    "\n",
    "file_path = Path(main_directory, \"examples\", \"queasars_result.json\")\n",
    "with open(file_path, \"w\") as file:\n",
    "    dump(obj=result, fp=file, indent=2, cls=EvolvingAnsatzMinimumEigensolverResultJSONEncoder)"
   ],
   "metadata": {
    "collapsed": false,
    "ExecuteTime": {
     "end_time": "2024-05-29T08:46:11.964091500Z",
     "start_time": "2024-05-29T08:46:11.521343300Z"
    }
   },
   "execution_count": 7
  },
  {
   "cell_type": "markdown",
   "metadata": {
    "collapsed": false
   },
   "source": [
    "## Plot the distribution"
   ]
  },
  {
   "cell_type": "code",
   "execution_count": 8,
   "metadata": {
    "collapsed": false,
    "ExecuteTime": {
     "end_time": "2024-05-29T08:46:12.144867700Z",
     "start_time": "2024-05-29T08:46:11.965805100Z"
    }
   },
   "outputs": [
    {
     "data": {
      "text/plain": "<Figure size 700x500 with 1 Axes>",
      "image/png": "[encoded data removed]"
     },
     "execution_count": 8,
     "metadata": {},
     "output_type": "execute_result"
    }
   ],
   "source": [
    "from qiskit.visualization import plot_distribution\n",
    "\n",
    "quasi_distribution = result.eigenstate.binary_probabilities()\n",
    "plot_distribution(quasi_distribution, number_to_keep=10)"
   ]
  },
  {
   "cell_type": "markdown",
   "source": [
    "## use the encoder to retrieve the solution"
   ],
   "metadata": {
    "collapsed": false
   }
  },
  {
   "cell_type": "code",
   "execution_count": 9,
   "outputs": [
    {
     "name": "stdout",
     "output_type": "stream",
     "text": [
      "probability:  0.482421875\n",
      "Simple Instance solution with makespan 4\n",
      "  j0:\n",
      "    j0_j0op0(m0, 2) starts at: 1 and ends at: 3\n",
      "    j0_j0op1(m1, 1) starts at: 3 and ends at: 4\n",
      "  j1:\n",
      "    j1_j1op1(m0, 1) starts at: 0 and ends at: 1\n",
      "    j1_j1op2(m1, 2) starts at: 1 and ends at: 3\n",
      "\n",
      "probability:  0.130859375\n",
      "Simple Instance solution with makespan None\n",
      "  j0:\n",
      "    j0_j0op0(m0, 2) starts at: 0 and ends at: 2\n",
      "    j0_j0op1(m1, 1) starts at: 3 and ends at: 4\n",
      "  j1:\n",
      "    j1_j1op1(m0, 1) starts at: 0 and ends at: 1\n",
      "    j1_j1op2(m1, 2) starts at: 1 and ends at: 3\n",
      "\n",
      "probability:  0.181640625\n",
      "Simple Instance solution with makespan None\n",
      "  j0:\n",
      "    j0_j0op0(m0, 2) starts at: 1 and ends at: 3\n",
      "    j0_j0op1(m1, 1) starts at: 2 and ends at: 3\n",
      "  j1:\n",
      "    j1_j1op1(m0, 1) starts at: 0 and ends at: 1\n",
      "    j1_j1op2(m1, 2) starts at: 1 and ends at: 3\n"
     ]
    }
   ],
   "source": [
    "solutions = []\n",
    "for bitstring, probability in quasi_distribution.items():\n",
    "    if probability < 0.1:\n",
    "        continue\n",
    "\n",
    "    solution = encoder.translate_result_bitstring(bitstring=bitstring)\n",
    "\n",
    "    print(\"probability: \", probability)\n",
    "    print(solution)\n",
    "    solutions.append(solution)"
   ],
   "metadata": {
    "collapsed": false,
    "ExecuteTime": {
     "end_time": "2024-05-29T08:46:12.145872200Z",
     "start_time": "2024-05-29T08:46:12.141962200Z"
    }
   }
  },
  {
   "cell_type": "markdown",
   "source": [
    "## Visualize the result (optional)"
   ],
   "metadata": {
    "collapsed": false
   }
  },
  {
   "cell_type": "code",
   "execution_count": 10,
   "outputs": [
    {
     "data": {
      "text/plain": "<Figure size 640x480 with 1 Axes>",
      "image/png": "[encoded data removed]"
     },
     "metadata": {},
     "output_type": "display_data"
    }
   ],
   "source": [
    "from queasars.job_shop_scheduling.visualization import plot_jssp_problem_solution_gantt\n",
    "\n",
    "for solution in solutions:\n",
    "    if solution.is_valid:\n",
    "        plot = plot_jssp_problem_solution_gantt(result=solution)"
   ],
   "metadata": {
    "collapsed": false,
    "ExecuteTime": {
     "end_time": "2024-05-29T08:46:12.244516900Z",
     "start_time": "2024-05-29T08:46:12.145872200Z"
    }
   }
  }
 ],
 "metadata": {
  "kernelspec": {
   "display_name": "Python 3 (ipykernel)",
   "language": "python",
   "name": "python3"
  },
  "language_info": {
   "codemirror_mode": {
    "name": "ipython",
    "version": 3
   },
   "file_extension": ".py",
   "mimetype": "text/x-python",
   "name": "python",
   "nbconvert_exporter": "python",
   "pygments_lexer": "ipython3",
   "version": "3.11.1"
  }
 },
 "nbformat": 4,
 "nbformat_minor": 4
}
