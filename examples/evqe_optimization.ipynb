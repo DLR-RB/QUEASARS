{
 "cells": [
  {
   "cell_type": "code",
   "execution_count": 1,
   "metadata": {
    "collapsed": true,
    "jupyter": {
     "outputs_hidden": true
    },
    "ExecuteTime": {
     "end_time": "2024-02-16T09:29:00.918234300Z",
     "start_time": "2024-02-16T09:29:00.912654600Z"
    }
   },
   "outputs": [],
   "source": [
    "from pathlib import Path\n",
    "import os\n",
    "import sys\n",
    "\n",
    "main_directory = Path(os.path.abspath(\"\")).parent\n",
    "sys.path.append(str(main_directory))"
   ]
  },
  {
   "cell_type": "markdown",
   "metadata": {
    "collapsed": false
   },
   "source": [
    "## Create a quadratic model in docplex"
   ]
  },
  {
   "cell_type": "code",
   "execution_count": 2,
   "metadata": {
    "collapsed": false,
    "ExecuteTime": {
     "end_time": "2024-02-16T09:29:01.100192100Z",
     "start_time": "2024-02-16T09:29:00.918234300Z"
    }
   },
   "outputs": [],
   "source": [
    "from docplex.mp.model import Model\n",
    "\n",
    "# set up the model for optimization in docplex\n",
    "optimization_problem = Model()\n",
    "\n",
    "# add the needed variables\n",
    "x = optimization_problem.integer_var(0, 15, \"x\")\n",
    "y = optimization_problem.integer_var(0, 15, \"y\")\n",
    "a = optimization_problem.binary_var(\"a\")\n",
    "b = optimization_problem.binary_var(\"b\")\n",
    "\n",
    "# formally describe the minimization task\n",
    "optimization_problem.minimize((2*x-y)**2 + 100*a*x - 100*b*y + (a + b - 1)**2)"
   ]
  },
  {
   "cell_type": "markdown",
   "source": [],
   "metadata": {
    "collapsed": false
   }
  },
  {
   "cell_type": "markdown",
   "metadata": {
    "collapsed": false
   },
   "source": [
    "## Convert the docplex model to a qiskit hamiltonian"
   ]
  },
  {
   "cell_type": "code",
   "execution_count": 3,
   "metadata": {
    "collapsed": false,
    "ExecuteTime": {
     "end_time": "2024-02-16T09:29:02.319139300Z",
     "start_time": "2024-02-16T09:29:01.100192100Z"
    }
   },
   "outputs": [],
   "source": [
    "from qiskit_optimization.translators import from_docplex_mp, to_ising\n",
    "from qiskit_optimization.converters import IntegerToBinary\n",
    "\n",
    "# convert to a quadratic program\n",
    "quadratic_program = from_docplex_mp(model=optimization_problem)\n",
    "\n",
    "# some variables are still integers, convert them to binary variables\n",
    "integer_converter = IntegerToBinary()\n",
    "quadratic_program = integer_converter.convert(problem=quadratic_program)\n",
    "\n",
    "# convert the quadratic program to an ising hamiltonian\n",
    "hamiltonian, offset = to_ising(quad_prog=quadratic_program)"
   ]
  },
  {
   "cell_type": "markdown",
   "metadata": {
    "collapsed": false
   },
   "source": [
    "## Setup the configuration for the EVQEMinimumEigensolver"
   ]
  },
  {
   "cell_type": "code",
   "execution_count": 4,
   "metadata": {
    "collapsed": false,
    "ExecuteTime": {
     "end_time": "2024-02-16T09:29:05.167247Z",
     "start_time": "2024-02-16T09:29:02.324840600Z"
    }
   },
   "outputs": [
    {
     "name": "stderr",
     "output_type": "stream",
     "text": [
      "C:\\Users\\shark\\AppData\\Local\\pypoetry\\Cache\\virtualenvs\\queasars-jkqbWnG0-py3.11\\Lib\\site-packages\\distributed\\node.py:182: UserWarning: Port 8787 is already in use.\n",
      "Perhaps you already have a cluster running?\n",
      "Hosting the HTTP server on port 64634 instead\n",
      "  warnings.warn(\n"
     ]
    }
   ],
   "source": [
    "from dask.distributed import LocalCluster\n",
    "from qiskit_aer.primitives import Sampler, Estimator\n",
    "from qiskit_algorithms.optimizers import SPSA\n",
    "\n",
    "from queasars.minimum_eigensolvers.base.termination_criteria import BestIndividualRelativeImprovementTolerance\n",
    "from queasars.minimum_eigensolvers.evqe.evqe import EVQEMinimumEigensolverConfiguration\n",
    "\n",
    "# The EVQEMinimumEigensolver needs a sampler and can also use an estimator.\n",
    "# Here we use the sampler and estimator provided by the qiskit_aer simulator.\n",
    "sampler_primitive = Sampler()\n",
    "estimator_primitive = Estimator()\n",
    "\n",
    "# The EVQEMinimumEigensolver also needs a qiskit optimizer. It should be\n",
    "# configured to terminate quickly, so that mutations are not overtly expensive.\n",
    "# Here we use the SPSA optimizer with a very limited amount of iterations and a\n",
    "# large step size.\n",
    "optimizer = SPSA(maxiter=10, perturbation=0.2, learning_rate=0.2, trust_region=True)\n",
    "\n",
    "# To help the EVQEMinimumEigensolver deal correctly with terminations based\n",
    "# on the amount of circuit evaluations used, an estimate can be given for how\n",
    "# many circuit evaluations the optimizer uses per optimization run.\n",
    "# SPSA makes two measurements per iteration, which means in total it will\n",
    "# need 20 circuit evaluations for 10 iterations.\n",
    "optimizer_n_circuit_evaluations = 20\n",
    "\n",
    "# An executor for launching parallel computation needs to be specified.\n",
    "# This can be a dask Client or a python ThreadPoolExecutor. Dask will\n",
    "# provide a significantly better performance but needs the Sampler and\n",
    "# Estimator to be serializable by dask. On the other hand when using\n",
    "# the ThreadPoolExecutor, the Sampler and Estimator need to be threadsafe.\n",
    "# If this is not the case you can use the queasars.circuit_evaluation.mutex_primitives\n",
    "# to wrap Samplers and Estimators to make them thread safe.\n",
    "parallel_executor = LocalCluster(processes=True, n_workers=6).get_client()\n",
    "\n",
    "# To specify when the EVQEMinimumEigensolver should terminate either max_generations,\n",
    "# max_circuit_evaluations or a termination_criterion should be given.\n",
    "# Here we choose to terminate once the best individual of a generation is less than 1% better than\n",
    "# the best individual of the previous generation.\n",
    "max_generations = None\n",
    "max_circuit_evaluations = None\n",
    "termination_criterion = BestIndividualRelativeImprovementTolerance(minimum_relative_improvement=0.01)\n",
    "\n",
    "# A random seed can be provided to control the randomness of the evolutionary process.\n",
    "random_seed = 0\n",
    "\n",
    "# The population size determines how many individuals are evaluated each generation.\n",
    "# With a higher population size, fewer generations might be needed, but this also\n",
    "# makes each generation more expensive to evaluate. A reasonable range might be\n",
    "# 10 - 100 individuals per population. Here we use a population size of 25.\n",
    "population_size = 25\n",
    "\n",
    "# If the optimization algorithm can't deal with parameter values of 0 at the beginning\n",
    "# of the optimization, they can be randomized here. For this example we don't need this.\n",
    "randomize_initial_population_parameters = False\n",
    "\n",
    "# Determines how many circuit layers apart two individuals need to be, to be considered to\n",
    "# be of a different species. Reasonable values might be in the range 2 - 5. Here we use 3.\n",
    "speciation_genetic_distance_threshold = 3\n",
    "\n",
    "# The alpha and beta penalties penalize quantum circuits of increasing depth (alpha) and\n",
    "# increasing amount of controlled rotations (beta). increase them if the quantum circuits get to\n",
    "# deep or complicated. For now we will use values of 0.1 for both penalties.\n",
    "selection_alpha_penalty = 0.1\n",
    "selection_beta_penalty = 0.1\n",
    "\n",
    "# The parameter search probability determines how likely an individual is mutated by optimizing\n",
    "# all it's parameter values. This should not be too large as this is costly. Here we will use\n",
    "# a probability of 0.25.\n",
    "parameter_search_probability = 0.25\n",
    "\n",
    "# The topological search probability determines how likely a circuit layer is added to an individual\n",
    "# as a mutation. This should be a higher probability to encourage exploration of different circuits.\n",
    "# Here we will use a likelihood of 0.5\n",
    "topological_search_probability = 0.5\n",
    "\n",
    "# The layer removal probability determines how likely circuit layers are removed from an individual\n",
    "# as a mutation. This is a very disruptive mutation and should only be used sparingly to counteract\n",
    "# circuit growth. Here we will use a probability of 0.1\n",
    "layer_removal_probability = 0.1\n",
    "\n",
    "configuration = EVQEMinimumEigensolverConfiguration(\n",
    "    sampler=sampler_primitive,\n",
    "    estimator=estimator_primitive,\n",
    "    optimizer=optimizer,\n",
    "    optimizer_n_circuit_evaluations=optimizer_n_circuit_evaluations,\n",
    "    parallel_executor=parallel_executor,\n",
    "    max_generations=max_generations,\n",
    "    max_circuit_evaluations=max_circuit_evaluations,\n",
    "    termination_criterion=termination_criterion,\n",
    "    random_seed=random_seed,\n",
    "    population_size=population_size,\n",
    "    randomize_initial_population_parameters=randomize_initial_population_parameters,\n",
    "    speciation_genetic_distance_threshold=speciation_genetic_distance_threshold,\n",
    "    selection_alpha_penalty=selection_alpha_penalty,\n",
    "    selection_beta_penalty=selection_beta_penalty,\n",
    "    parameter_search_probability=parameter_search_probability,\n",
    "    topological_search_probability=topological_search_probability,\n",
    "    layer_removal_probability=layer_removal_probability,\n",
    ")"
   ]
  },
  {
   "cell_type": "markdown",
   "metadata": {
    "collapsed": false
   },
   "source": [
    "## Setup the EVQEMinimumEigensolver"
   ]
  },
  {
   "cell_type": "code",
   "execution_count": 5,
   "metadata": {
    "collapsed": false,
    "ExecuteTime": {
     "end_time": "2024-02-16T09:29:05.171658600Z",
     "start_time": "2024-02-16T09:29:05.168530400Z"
    }
   },
   "outputs": [],
   "source": [
    "from queasars.minimum_eigensolvers.evqe.evqe import EVQEMinimumEigensolver\n",
    "\n",
    "eigensolver = EVQEMinimumEigensolver(configuration=configuration)"
   ]
  },
  {
   "cell_type": "markdown",
   "metadata": {
    "collapsed": false
   },
   "source": [
    "## Solve the problem as posed in the hamiltonian"
   ]
  },
  {
   "cell_type": "code",
   "execution_count": 6,
   "metadata": {
    "collapsed": false,
    "ExecuteTime": {
     "end_time": "2024-02-16T09:29:56.748861100Z",
     "start_time": "2024-02-16T09:29:05.172182200Z"
    }
   },
   "outputs": [
    {
     "name": "stderr",
     "output_type": "stream",
     "text": [
      "INFO:queasars.minimum_eigensolvers.base.evolving_ansatz_minimum_eigensolver:Starting generation: 0\n",
      "INFO:queasars.minimum_eigensolvers.base.evolving_ansatz_minimum_eigensolver:Expectation value of best individual found so far: -294\n",
      "INFO:queasars.minimum_eigensolvers.base.evolving_ansatz_minimum_eigensolver:Average expectation value in the population currently: -179\n",
      "INFO:queasars.minimum_eigensolvers.base.evolving_ansatz_minimum_eigensolver:Starting generation: 1\n",
      "INFO:queasars.minimum_eigensolvers.base.evolving_ansatz_minimum_eigensolver:Expectation value of best individual found so far: -716\n",
      "INFO:queasars.minimum_eigensolvers.base.evolving_ansatz_minimum_eigensolver:Average expectation value in the population currently: -454\n",
      "INFO:queasars.minimum_eigensolvers.base.evolving_ansatz_minimum_eigensolver:Starting generation: 2\n",
      "INFO:queasars.minimum_eigensolvers.base.evolving_ansatz_minimum_eigensolver:Expectation value of best individual found so far: -1017\n",
      "INFO:queasars.minimum_eigensolvers.base.evolving_ansatz_minimum_eigensolver:Average expectation value in the population currently: -792\n",
      "INFO:queasars.minimum_eigensolvers.base.evolving_ansatz_minimum_eigensolver:Starting generation: 3\n",
      "INFO:queasars.minimum_eigensolvers.base.evolving_ansatz_minimum_eigensolver:Expectation value of best individual found so far: -1279\n",
      "INFO:queasars.minimum_eigensolvers.base.evolving_ansatz_minimum_eigensolver:Average expectation value in the population currently: -1098\n",
      "INFO:queasars.minimum_eigensolvers.base.evolving_ansatz_minimum_eigensolver:Starting generation: 4\n",
      "INFO:queasars.minimum_eigensolvers.base.evolving_ansatz_minimum_eigensolver:Expectation value of best individual found so far: -1392\n",
      "INFO:queasars.minimum_eigensolvers.base.evolving_ansatz_minimum_eigensolver:Average expectation value in the population currently: -1299\n",
      "INFO:queasars.minimum_eigensolvers.base.evolving_ansatz_minimum_eigensolver:Starting generation: 5\n",
      "INFO:queasars.minimum_eigensolvers.base.evolving_ansatz_minimum_eigensolver:Expectation value of best individual found so far: -1447\n",
      "INFO:queasars.minimum_eigensolvers.base.evolving_ansatz_minimum_eigensolver:Average expectation value in the population currently: -1382\n",
      "INFO:queasars.minimum_eigensolvers.base.evolving_ansatz_minimum_eigensolver:Starting generation: 6\n",
      "INFO:queasars.minimum_eigensolvers.base.evolving_ansatz_minimum_eigensolver:Expectation value of best individual found so far: -1490\n",
      "INFO:queasars.minimum_eigensolvers.base.evolving_ansatz_minimum_eigensolver:Average expectation value in the population currently: -1436\n",
      "INFO:queasars.minimum_eigensolvers.base.evolving_ansatz_minimum_eigensolver:Starting generation: 7\n",
      "INFO:queasars.minimum_eigensolvers.base.evolving_ansatz_minimum_eigensolver:Expectation value of best individual found so far: -1558\n",
      "INFO:queasars.minimum_eigensolvers.base.evolving_ansatz_minimum_eigensolver:Average expectation value in the population currently: -1465\n",
      "INFO:queasars.minimum_eigensolvers.base.evolving_ansatz_minimum_eigensolver:Starting generation: 8\n",
      "INFO:queasars.minimum_eigensolvers.base.evolving_ansatz_minimum_eigensolver:Expectation value of best individual found so far: -1600\n",
      "INFO:queasars.minimum_eigensolvers.base.evolving_ansatz_minimum_eigensolver:Average expectation value in the population currently: -1489\n",
      "INFO:queasars.minimum_eigensolvers.base.evolving_ansatz_minimum_eigensolver:Starting generation: 9\n",
      "INFO:queasars.minimum_eigensolvers.base.evolving_ansatz_minimum_eigensolver:Expectation value of best individual found so far: -1611\n",
      "INFO:queasars.minimum_eigensolvers.base.evolving_ansatz_minimum_eigensolver:Average expectation value in the population currently: -1561\n",
      "INFO:qiskit.passmanager.base_tasks:Pass: ContainsInstruction - 0.00000 (ms)\n",
      "INFO:qiskit.passmanager.base_tasks:Pass: UnitarySynthesis - 0.00000 (ms)\n",
      "INFO:qiskit.passmanager.base_tasks:Pass: HighLevelSynthesis - 3.56102 (ms)\n",
      "INFO:qiskit.transpiler.passes.basis.basis_translator:Begin BasisTranslator from source basis {('cu3', 2), ('h', 1), ('id', 1), ('u', 1), ('barrier', 10), ('measure', 1)} to target basis {'multiplexer', 'save_probabilities_dict', 'rzz', 'quantum_channel', 'cu', 'rzx', 'mcsx', 'mcu2', 'superop', 'ccx', 'r', 'u2', 'mcu3', 'measure', 'rxx', 'save_amplitudes', 'mcy', 'save_state', 'cp', 'set_superop', 'qerror_loc', 'set_statevector', 'sxdg', 'h', 'cx', 'while_loop', 'u', 'u3', 'ry', 'initialize', 'save_statevector_dict', 'pauli', 'set_unitary', 'save_statevector', 'set_density_matrix', 'barrier', 'for_loop', 'save_expval_var', 'mcswap', 'continue_loop', 'reset', 'snapshot', 'mcz', 'mcphase', 'z', 'mcry', 'roerror', 'cu3', 'if_else', 'swap', 'set_matrix_product_state', 'kraus', 'rz', 'cy', 'x', 'cz', 'break_loop', 'rx', 'mcr', 'u1', 'save_probabilities', 'sdg', 'set_stabilizer', 'mcrz', 't', 'unitary', 'save_superop', 'sx', 'save_expval', 'mcrx', 'delay', 'save_matrix_product_state', 'csx', 'p', 'mcu1', 'mcx_gray', 's', 'diagonal', 'mcx', 'ecr', 'save_unitary', 'save_clifford', 'ryy', 'cswap', 'cu1', 'save_stabilizer', 'y', 'id', 'tdg', 'cu2', 'save_amplitudes_sq', 'mcp', 'mcu', 'save_density_matrix', 'switch_case'}.\n",
      "INFO:qiskit.transpiler.passes.basis.basis_translator:Basis translation path search completed in 0.000s.\n",
      "INFO:qiskit.transpiler.passes.basis.basis_translator:Basis translation paths composed in 0.000s.\n",
      "INFO:qiskit.transpiler.passes.basis.basis_translator:Basis translation instructions replaced in 0.001s.\n",
      "INFO:qiskit.passmanager.base_tasks:Pass: BasisTranslator - 4.58384 (ms)\n",
      "INFO:qiskit.passmanager.base_tasks:Pass: AerBackendRebuildGateSetsFromCircuit - 0.00000 (ms)\n",
      "INFO:qiskit.passmanager.base_tasks:Pass: Depth - 0.00000 (ms)\n",
      "INFO:qiskit.passmanager.base_tasks:Pass: FixedPoint - 0.00000 (ms)\n",
      "INFO:qiskit.passmanager.base_tasks:Pass: Size - 0.00000 (ms)\n",
      "INFO:qiskit.passmanager.base_tasks:Pass: FixedPoint - 0.00000 (ms)\n",
      "INFO:qiskit.passmanager.base_tasks:Pass: Optimize1qGatesDecomposition - 1.55067 (ms)\n",
      "INFO:qiskit.passmanager.base_tasks:Pass: CXCancellation - 0.00000 (ms)\n",
      "INFO:qiskit.passmanager.base_tasks:Pass: GatesInBasis - 0.00000 (ms)\n",
      "INFO:qiskit.passmanager.base_tasks:Pass: Depth - 0.00000 (ms)\n",
      "INFO:qiskit.passmanager.base_tasks:Pass: FixedPoint - 0.00000 (ms)\n",
      "INFO:qiskit.passmanager.base_tasks:Pass: Size - 0.00000 (ms)\n",
      "INFO:qiskit.passmanager.base_tasks:Pass: FixedPoint - 0.00000 (ms)\n",
      "INFO:qiskit.passmanager.base_tasks:Pass: Optimize1qGatesDecomposition - 1.51801 (ms)\n",
      "INFO:qiskit.passmanager.base_tasks:Pass: CXCancellation - 0.00000 (ms)\n",
      "INFO:qiskit.passmanager.base_tasks:Pass: GatesInBasis - 1.52493 (ms)\n",
      "INFO:qiskit.passmanager.base_tasks:Pass: Depth - 0.50902 (ms)\n",
      "INFO:qiskit.passmanager.base_tasks:Pass: FixedPoint - 0.00000 (ms)\n",
      "INFO:qiskit.passmanager.base_tasks:Pass: Size - 0.00000 (ms)\n",
      "INFO:qiskit.passmanager.base_tasks:Pass: FixedPoint - 0.00000 (ms)\n",
      "INFO:qiskit.passmanager.base_tasks:Pass: ContainsInstruction - 0.00000 (ms)\n",
      "INFO:qiskit.compiler.transpiler:Total Transpile Time - 846.40980 (ms)\n"
     ]
    }
   ],
   "source": [
    "import logging\n",
    "\n",
    "logging.basicConfig(level=logging.INFO)\n",
    "\n",
    "result = eigensolver.compute_minimum_eigenvalue(operator=hamiltonian)\n",
    "quasi_distribution = result.eigenstate.binary_probabilities()\n"
   ]
  },
  {
   "cell_type": "markdown",
   "metadata": {
    "collapsed": false
   },
   "source": [
    "## Plot the distribution"
   ]
  },
  {
   "cell_type": "code",
   "execution_count": 7,
   "metadata": {
    "collapsed": false,
    "ExecuteTime": {
     "end_time": "2024-02-16T09:29:57.504167400Z",
     "start_time": "2024-02-16T09:29:56.747822200Z"
    }
   },
   "outputs": [
    {
     "data": {
      "text/plain": "<Figure size 700x500 with 1 Axes>",
      "image/png": "[encoded data removed]"
     },
     "execution_count": 7,
     "metadata": {},
     "output_type": "execute_result"
    }
   ],
   "source": [
    "from qiskit.visualization import plot_distribution\n",
    "\n",
    "plot_distribution(quasi_distribution, number_to_keep=10)"
   ]
  },
  {
   "cell_type": "markdown",
   "source": [
    "## use the integer translator to retrieve your variables"
   ],
   "metadata": {
    "collapsed": false
   }
  },
  {
   "cell_type": "code",
   "execution_count": 8,
   "outputs": [
    {
     "name": "stdout",
     "output_type": "stream",
     "text": [
      "probability:  0.322265625\n",
      "variable values:  [ 6. 15.  0.  1.]\n",
      "\n",
      "probability:  0.10546875\n",
      "variable values:  [ 5. 15.  0.  1.]\n",
      "\n",
      "probability:  0.27734375\n",
      "variable values:  [ 7. 15.  0.  1.]\n",
      "\n",
      "probability:  0.09375\n",
      "variable values:  [ 4. 15.  0.  1.]\n"
     ]
    }
   ],
   "source": [
    "for bitstring, probability in quasi_distribution.items():\n",
    "    if probability < 0.05:\n",
    "        continue\n",
    "\n",
    "    bitlist = [int(char) for char in bitstring][::-1]\n",
    "    converted_variables = integer_converter.interpret(bitlist)\n",
    "    print(\"probability: \", probability)\n",
    "    print(\"variable values: \", converted_variables)\n",
    "    print(\"\")"
   ],
   "metadata": {
    "collapsed": false,
    "ExecuteTime": {
     "end_time": "2024-02-16T09:29:57.508709800Z",
     "start_time": "2024-02-16T09:29:57.504167400Z"
    }
   }
  },
  {
   "cell_type": "code",
   "outputs": [],
   "source": [],
   "metadata": {
    "collapsed": false
   }
  }
 ],
 "metadata": {
  "kernelspec": {
   "display_name": "Python 3 (ipykernel)",
   "language": "python",
   "name": "python3"
  },
  "language_info": {
   "codemirror_mode": {
    "name": "ipython",
    "version": 3
   },
   "file_extension": ".py",
   "mimetype": "text/x-python",
   "name": "python",
   "nbconvert_exporter": "python",
   "pygments_lexer": "ipython3",
   "version": "3.11.1"
  }
 },
 "nbformat": 4,
 "nbformat_minor": 4
}
