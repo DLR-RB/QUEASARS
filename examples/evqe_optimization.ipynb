{
 "cells": [
  {
   "cell_type": "code",
   "execution_count": 1,
   "metadata": {
    "collapsed": true,
    "jupyter": {
     "outputs_hidden": true
    },
    "ExecuteTime": {
     "end_time": "2024-02-17T17:24:06.869167700Z",
     "start_time": "2024-02-17T17:24:06.844063900Z"
    }
   },
   "outputs": [],
   "source": [
    "from pathlib import Path\n",
    "import os\n",
    "import sys\n",
    "\n",
    "main_directory = Path(os.path.abspath(\"\")).parent\n",
    "sys.path.append(str(main_directory))"
   ]
  },
  {
   "cell_type": "markdown",
   "metadata": {
    "collapsed": false
   },
   "source": [
    "## Create a quadratic model in docplex"
   ]
  },
  {
   "cell_type": "code",
   "execution_count": 2,
   "metadata": {
    "collapsed": false,
    "ExecuteTime": {
     "end_time": "2024-02-17T17:24:07.034500900Z",
     "start_time": "2024-02-17T17:24:06.854166Z"
    }
   },
   "outputs": [],
   "source": [
    "from docplex.mp.model import Model\n",
    "\n",
    "# set up the model for optimization in docplex\n",
    "optimization_problem = Model()\n",
    "\n",
    "# add the needed variables\n",
    "x = optimization_problem.integer_var(0, 15, \"x\")\n",
    "y = optimization_problem.integer_var(0, 15, \"y\")\n",
    "a = optimization_problem.binary_var(\"a\")\n",
    "b = optimization_problem.binary_var(\"b\")\n",
    "\n",
    "# formally describe the minimization task\n",
    "optimization_problem.minimize((2*x-y)**2 + 100*a*x - 100*b*y + (a + b - 1)**2)"
   ]
  },
  {
   "cell_type": "markdown",
   "source": [],
   "metadata": {
    "collapsed": false
   }
  },
  {
   "cell_type": "markdown",
   "metadata": {
    "collapsed": false
   },
   "source": [
    "## Convert the docplex model to a qiskit hamiltonian"
   ]
  },
  {
   "cell_type": "code",
   "execution_count": 3,
   "metadata": {
    "collapsed": false,
    "ExecuteTime": {
     "end_time": "2024-02-17T17:24:07.699811300Z",
     "start_time": "2024-02-17T17:24:07.036508900Z"
    }
   },
   "outputs": [],
   "source": [
    "from qiskit_optimization.translators import from_docplex_mp, to_ising\n",
    "from qiskit_optimization.converters import IntegerToBinary\n",
    "\n",
    "# convert to a quadratic program\n",
    "quadratic_program = from_docplex_mp(model=optimization_problem)\n",
    "\n",
    "# some variables are still integers, convert them to binary variables\n",
    "integer_converter = IntegerToBinary()\n",
    "quadratic_program = integer_converter.convert(problem=quadratic_program)\n",
    "\n",
    "# convert the quadratic program to an ising hamiltonian\n",
    "hamiltonian, offset = to_ising(quad_prog=quadratic_program)"
   ]
  },
  {
   "cell_type": "markdown",
   "metadata": {
    "collapsed": false
   },
   "source": [
    "## Setup the configuration for the EVQEMinimumEigensolver"
   ]
  },
  {
   "cell_type": "code",
   "execution_count": 4,
   "metadata": {
    "collapsed": false,
    "ExecuteTime": {
     "end_time": "2024-02-17T17:24:08.625881200Z",
     "start_time": "2024-02-17T17:24:07.705813Z"
    }
   },
   "outputs": [],
   "source": [
    "from qiskit_aer.primitives import Sampler, Estimator\n",
    "from qiskit_algorithms.optimizers import SPSA\n",
    "\n",
    "from queasars.minimum_eigensolvers.base.termination_criteria import BestIndividualRelativeImprovementTolerance\n",
    "from queasars.minimum_eigensolvers.evqe.evqe import EVQEMinimumEigensolverConfiguration\n",
    "\n",
    "# The EVQEMinimumEigensolver needs a sampler and can also use an estimator.\n",
    "# Here we use the sampler and estimator provided by the qiskit_aer simulator.\n",
    "sampler_primitive = Sampler()\n",
    "estimator_primitive = Estimator()\n",
    "\n",
    "# The EVQEMinimumEigensolver also needs a qiskit optimizer. It should be\n",
    "# configured to terminate quickly, so that mutations are not overtly expensive.\n",
    "# Here we use the SPSA optimizer with a very limited amount of iterations and a\n",
    "# large step size.\n",
    "optimizer = SPSA(maxiter=10, perturbation=0.2, learning_rate=0.2, trust_region=True)\n",
    "\n",
    "# To help the EVQEMinimumEigensolver deal correctly with terminations based\n",
    "# on the amount of circuit evaluations used, an estimate can be given for how\n",
    "# many circuit evaluations the optimizer uses per optimization run.\n",
    "# SPSA makes two measurements per iteration, which means in total it will\n",
    "# need 20 circuit evaluations for 10 iterations.\n",
    "optimizer_n_circuit_evaluations = 20\n",
    "\n",
    "# To specify when the EVQEMinimumEigensolver should terminate either max_generations,\n",
    "# max_circuit_evaluations or a termination_criterion should be given.\n",
    "# Here we choose to terminate once the best individual of a generation is less than 1% better than\n",
    "# the best individual of the previous generation.\n",
    "max_generations = None\n",
    "max_circuit_evaluations = None\n",
    "termination_criterion = BestIndividualRelativeImprovementTolerance(minimum_relative_improvement=0.01)\n",
    "\n",
    "# A random seed can be provided to control the randomness of the evolutionary process.\n",
    "random_seed = 0\n",
    "\n",
    "# The population size determines how many individuals are evaluated each generation.\n",
    "# With a higher population size, fewer generations might be needed, but this also\n",
    "# makes each generation more expensive to evaluate. A reasonable range might be\n",
    "# 10 - 100 individuals per population. Here we use a population size of 25.\n",
    "population_size = 25\n",
    "\n",
    "# If the optimization algorithm can't deal with parameter values of 0 at the beginning\n",
    "# of the optimization, they can be randomized here. For this example we don't need this.\n",
    "randomize_initial_population_parameters = False\n",
    "\n",
    "# Determines how many circuit layers apart two individuals need to be, to be considered to\n",
    "# be of a different species. Reasonable values might be in the range 2 - 5. Here we use 3.\n",
    "speciation_genetic_distance_threshold = 3\n",
    "\n",
    "# The alpha and beta penalties penalize quantum circuits of increasing depth (alpha) and\n",
    "# increasing amount of controlled rotations (beta). increase them if the quantum circuits get to\n",
    "# deep or complicated. For now we will use values of 0.1 for both penalties.\n",
    "selection_alpha_penalty = 0.1\n",
    "selection_beta_penalty = 0.1\n",
    "\n",
    "# The parameter search probability determines how likely an individual is mutated by optimizing\n",
    "# all it's parameter values. This should not be too large as this is costly. Here we will use\n",
    "# a probability of 0.25.\n",
    "parameter_search_probability = 0.25\n",
    "\n",
    "# The topological search probability determines how likely a circuit layer is added to an individual\n",
    "# as a mutation. This should be a higher probability to encourage exploration of different circuits.\n",
    "# Here we will use a likelihood of 0.5\n",
    "topological_search_probability = 0.5\n",
    "\n",
    "# The layer removal probability determines how likely circuit layers are removed from an individual\n",
    "# as a mutation. This is a very disruptive mutation and should only be used sparingly to counteract\n",
    "# circuit growth. Here we will use a probability of 0.1\n",
    "layer_removal_probability = 0.1\n",
    "\n",
    "# An executor for launching parallel computation can be specified.\n",
    "# This can be a dask Client or a python ThreadPoolExecutor. If None is\n",
    "# specified a ThreadPoolExecutor with population_size many threads will\n",
    "# be used\n",
    "parallel_executor = None\n",
    "\n",
    "# Discerns whether to only allow mutually exclusive access to the Sampler and\n",
    "# Estimator primitive respectively. This is needed if the Sampler or Estimator are not threadsafe and\n",
    "# a ThreadPoolExecutor with more than one thread or a Dask Client with more than one thread per process is used.\n",
    "# For safety reasons this is enabled by default. If the sampler and estimator are threadsafe disabling this\n",
    "# option may lead to performance improvements\n",
    "mutually_exclusive_primitives = True\n",
    "\n",
    "configuration = EVQEMinimumEigensolverConfiguration(\n",
    "    sampler=sampler_primitive,\n",
    "    estimator=estimator_primitive,\n",
    "    optimizer=optimizer,\n",
    "    optimizer_n_circuit_evaluations=optimizer_n_circuit_evaluations,\n",
    "    max_generations=max_generations,\n",
    "    max_circuit_evaluations=max_circuit_evaluations,\n",
    "    termination_criterion=termination_criterion,\n",
    "    random_seed=random_seed,\n",
    "    population_size=population_size,\n",
    "    randomize_initial_population_parameters=randomize_initial_population_parameters,\n",
    "    speciation_genetic_distance_threshold=speciation_genetic_distance_threshold,\n",
    "    selection_alpha_penalty=selection_alpha_penalty,\n",
    "    selection_beta_penalty=selection_beta_penalty,\n",
    "    parameter_search_probability=parameter_search_probability,\n",
    "    topological_search_probability=topological_search_probability,\n",
    "    layer_removal_probability=layer_removal_probability,\n",
    "    parallel_executor=parallel_executor,\n",
    "    mutually_exclusive_primitives=mutually_exclusive_primitives,\n",
    ")"
   ]
  },
  {
   "cell_type": "markdown",
   "metadata": {
    "collapsed": false
   },
   "source": [
    "## Setup the EVQEMinimumEigensolver"
   ]
  },
  {
   "cell_type": "code",
   "execution_count": 5,
   "metadata": {
    "collapsed": false,
    "ExecuteTime": {
     "end_time": "2024-02-17T17:24:08.637285500Z",
     "start_time": "2024-02-17T17:24:08.628749Z"
    }
   },
   "outputs": [],
   "source": [
    "from queasars.minimum_eigensolvers.evqe.evqe import EVQEMinimumEigensolver\n",
    "\n",
    "eigensolver = EVQEMinimumEigensolver(configuration=configuration)"
   ]
  },
  {
   "cell_type": "markdown",
   "metadata": {
    "collapsed": false
   },
   "source": [
    "## Solve the problem as posed in the hamiltonian"
   ]
  },
  {
   "cell_type": "code",
   "execution_count": 6,
   "metadata": {
    "collapsed": false,
    "ExecuteTime": {
     "end_time": "2024-02-17T17:29:19.798675Z",
     "start_time": "2024-02-17T17:24:08.633274400Z"
    }
   },
   "outputs": [
    {
     "name": "stderr",
     "output_type": "stream",
     "text": [
      "Starting generation: 0\n",
      "Expectation value of best individual found so far: -303\n",
      "Average expectation value in the population currently: -184\n",
      "Starting generation: 1\n",
      "Expectation value of best individual found so far: -655\n",
      "Average expectation value in the population currently: -487\n",
      "Starting generation: 2\n",
      "Expectation value of best individual found so far: -1006\n",
      "Average expectation value in the population currently: -769\n",
      "Starting generation: 3\n",
      "Expectation value of best individual found so far: -1263\n",
      "Average expectation value in the population currently: -1077\n",
      "Starting generation: 4\n",
      "Expectation value of best individual found so far: -1457\n",
      "Average expectation value in the population currently: -1314\n",
      "Starting generation: 5\n",
      "Expectation value of best individual found so far: -1553\n",
      "Average expectation value in the population currently: -1440\n",
      "Starting generation: 6\n",
      "Expectation value of best individual found so far: -1603\n",
      "Average expectation value in the population currently: -1523\n",
      "Starting generation: 7\n",
      "Expectation value of best individual found so far: -1612\n",
      "Average expectation value in the population currently: -1580\n"
     ]
    }
   ],
   "source": [
    "import logging\n",
    "\n",
    "logger = logging.getLogger(\"queasars.minimum_eigensolvers.base.evolving_ansatz_minimum_eigensolver\")\n",
    "handler = logging.StreamHandler()\n",
    "logger.setLevel(logging.INFO)\n",
    "logger.addHandler(handler)\n",
    "\n",
    "result = eigensolver.compute_minimum_eigenvalue(operator=hamiltonian)\n",
    "quasi_distribution = result.eigenstate.binary_probabilities()\n"
   ]
  },
  {
   "cell_type": "markdown",
   "metadata": {
    "collapsed": false
   },
   "source": [
    "## Plot the distribution"
   ]
  },
  {
   "cell_type": "code",
   "execution_count": 7,
   "metadata": {
    "collapsed": false,
    "ExecuteTime": {
     "end_time": "2024-02-17T17:29:20.273837500Z",
     "start_time": "2024-02-17T17:29:19.799672700Z"
    }
   },
   "outputs": [
    {
     "data": {
      "text/plain": "<Figure size 700x500 with 1 Axes>",
      "image/png": "[encoded data removed]"
     },
     "execution_count": 7,
     "metadata": {},
     "output_type": "execute_result"
    }
   ],
   "source": [
    "from qiskit.visualization import plot_distribution\n",
    "\n",
    "plot_distribution(quasi_distribution, number_to_keep=10)"
   ]
  },
  {
   "cell_type": "markdown",
   "source": [
    "## use the integer translator to retrieve your variables"
   ],
   "metadata": {
    "collapsed": false
   }
  },
  {
   "cell_type": "code",
   "execution_count": 8,
   "outputs": [
    {
     "name": "stdout",
     "output_type": "stream",
     "text": [
      "probability:  0.494140625\n",
      "variable values:  [ 7. 15.  0.  1.]\n",
      "\n",
      "probability:  0.234375\n",
      "variable values:  [ 5. 15.  0.  1.]\n",
      "\n",
      "probability:  0.080078125\n",
      "variable values:  [ 6. 15.  0.  1.]\n"
     ]
    }
   ],
   "source": [
    "for bitstring, probability in quasi_distribution.items():\n",
    "    if probability < 0.05:\n",
    "        continue\n",
    "\n",
    "    bitlist = [int(char) for char in bitstring][::-1]\n",
    "    converted_variables = integer_converter.interpret(bitlist)\n",
    "    print(\"probability: \", probability)\n",
    "    print(\"variable values: \", converted_variables)\n",
    "    print(\"\")"
   ],
   "metadata": {
    "collapsed": false,
    "ExecuteTime": {
     "end_time": "2024-02-17T17:29:20.280058600Z",
     "start_time": "2024-02-17T17:29:20.276525500Z"
    }
   }
  },
  {
   "cell_type": "code",
   "outputs": [],
   "source": [],
   "metadata": {
    "collapsed": false,
    "ExecuteTime": {
     "end_time": "2024-02-17T17:29:20.283273700Z",
     "start_time": "2024-02-17T17:29:20.280759600Z"
    }
   },
   "execution_count": 8
  }
 ],
 "metadata": {
  "kernelspec": {
   "display_name": "Python 3 (ipykernel)",
   "language": "python",
   "name": "python3"
  },
  "language_info": {
   "codemirror_mode": {
    "name": "ipython",
    "version": 3
   },
   "file_extension": ".py",
   "mimetype": "text/x-python",
   "name": "python",
   "nbconvert_exporter": "python",
   "pygments_lexer": "ipython3",
   "version": "3.11.1"
  }
 },
 "nbformat": 4,
 "nbformat_minor": 4
}
