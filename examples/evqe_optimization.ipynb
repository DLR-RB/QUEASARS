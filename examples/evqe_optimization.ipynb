{
 "cells": [
  {
   "cell_type": "code",
   "execution_count": 1,
   "metadata": {
    "collapsed": true,
    "jupyter": {
     "outputs_hidden": true
    }
   },
   "outputs": [],
   "source": [
    "from pathlib import Path\n",
    "import os\n",
    "import sys\n",
    "\n",
    "main_directory = Path(os.path.abspath(\"\")).parent\n",
    "sys.path.append(str(main_directory))"
   ]
  },
  {
   "cell_type": "markdown",
   "metadata": {
    "collapsed": false,
    "jupyter": {
     "outputs_hidden": false
    }
   },
   "source": [
    "## Create a quadratic model in docplex"
   ]
  },
  {
   "cell_type": "code",
   "execution_count": 2,
   "metadata": {
    "collapsed": false,
    "jupyter": {
     "outputs_hidden": false
    }
   },
   "outputs": [],
   "source": [
    "from docplex.mp.model import Model\n",
    "\n",
    "# set up the model for optimization in docplex\n",
    "optimization_problem = Model()\n",
    "\n",
    "# add the needed variables\n",
    "x = optimization_problem.integer_var(0, 15, \"x\")\n",
    "y = optimization_problem.integer_var(0, 15, \"y\")\n",
    "a = optimization_problem.binary_var(\"a\")\n",
    "b = optimization_problem.binary_var(\"b\")\n",
    "\n",
    "# formally describe the minimization task\n",
    "optimization_problem.minimize((2*x-y)**2 + 100*a*x - 100*b*y + (a + b - 1)**2)"
   ]
  },
  {
   "cell_type": "markdown",
   "metadata": {
    "collapsed": false,
    "jupyter": {
     "outputs_hidden": false
    }
   },
   "source": [
    "## Convert the docplex model to a qiskit hamiltonian"
   ]
  },
  {
   "cell_type": "code",
   "execution_count": 3,
   "metadata": {
    "collapsed": false,
    "jupyter": {
     "outputs_hidden": false
    }
   },
   "outputs": [],
   "source": [
    "from qiskit_optimization.translators import from_docplex_mp, to_ising\n",
    "from qiskit_optimization.converters import IntegerToBinary\n",
    "\n",
    "# convert to a quadratic program\n",
    "quadratic_program = from_docplex_mp(model=optimization_problem)\n",
    "\n",
    "# some variables are still integers, convert them to binary variables\n",
    "integer_converter = IntegerToBinary()\n",
    "quadratic_program = integer_converter.convert(problem=quadratic_program)\n",
    "\n",
    "# convert the quadratic program to an ising hamiltonian\n",
    "hamiltonian, offset = to_ising(quad_prog=quadratic_program)"
   ]
  },
  {
   "cell_type": "markdown",
   "metadata": {
    "collapsed": false,
    "jupyter": {
     "outputs_hidden": false
    }
   },
   "source": [
    "## Setup the configuration for the EVQEMinimumEigensolver"
   ]
  },
  {
   "cell_type": "code",
   "execution_count": 4,
   "metadata": {
    "collapsed": false,
    "jupyter": {
     "outputs_hidden": false
    }
   },
   "outputs": [],
   "source": [
    "from qiskit_aer.primitives import Sampler, Estimator\n",
    "from qiskit_algorithms.optimizers import SPSA\n",
    "\n",
    "from queasars.minimum_eigensolvers.evqe.evqe import EVQEMinimumEigensolverConfiguration\n",
    "\n",
    "# The EVQEMinimumEigensolver needs a sampler and can also use an estimator.\n",
    "# Here we use the sampler and estimator provided by the qiskit_aer simulator.\n",
    "# We set a seed for reproducibility.\n",
    "sampler_primitive = Sampler()\n",
    "sampler_primitive.set_options(seed=0)\n",
    "estimator_primitive = Estimator()\n",
    "estimator_primitive.set_options(seed=0)\n",
    "\n",
    "# The EVQEMinimumEigensolver also needs a qiskit optimizer. It should be\n",
    "# configured to terminate quickly, so that mutations are not overtly expensive.\n",
    "# Here we use the SPSA optimizer with a very limited amount of iterations and a\n",
    "# large step size.\n",
    "optimizer = SPSA(maxiter=10, perturbation=0.2, learning_rate=0.2, trust_region=True)\n",
    "\n",
    "# To help the EVQEMinimumEigensolver deal correctly with terminations based\n",
    "# on the amount of circuit evaluations used, an estimate can be given for how\n",
    "# many circuit evaluations the optimizer uses per optimization run.\n",
    "# SPSA makes two measurements per iteration, which means in total it will\n",
    "# need 20 circuit evaluations for 10 iterations.\n",
    "optimizer_n_circuit_evaluations = 20\n",
    "\n",
    "# A dask client can be specified. If none is given, the EVQEMinimumEigensolver sets\n",
    "# up a LocalCluster itself.\n",
    "dask_client = None\n",
    "\n",
    "# To specify when the EVQEMinimumEigensolver should terminate either max_generations,\n",
    "# max_circuit_evaluations or a termination_criterion should be given.\n",
    "# Here we choose to let the solver run for 10 evolutionary generations.\n",
    "max_generations = 10\n",
    "max_circuit_evaluations = None\n",
    "termination_criterion = None\n",
    "\n",
    "# A random seed can be provided to control the randomness of the evolutionary process.\n",
    "random_seed = 0\n",
    "\n",
    "# The population size determines how many individuals are evaluated each generation.\n",
    "# With a higher population size, fewer generations might be needed, but this also\n",
    "# makes each generation more expensive to evaluate. A reasonable range might be\n",
    "# 10 - 100 individuals per population. Here we use a population size of 25.\n",
    "population_size = 25\n",
    "\n",
    "# If the optimization algorithm can't deal with parameter values of 0 at the beginning\n",
    "# of the optimization, they can be randomized here. For this example we don't need this.\n",
    "randomize_initial_population_parameters = True\n",
    "\n",
    "# Determines how many circuit layers apart to individuals need to be to be considered to\n",
    "# be of a different species. Reasonable values might be in the range 2 - 5. Here we use 3.\n",
    "speciation_genetic_distance_threshold = 3\n",
    "\n",
    "# The alpha and beta penalties penalize quantum circuits of increasing depth (alpha) and\n",
    "# increasing amount of controlled rotations (beta). increase them if the quantum circuits get to\n",
    "# deep or complicated. For now we will use values of 0.1 for both penalties.\n",
    "selection_alpha_penalty = 0.1\n",
    "selection_beta_penalty = 0.1\n",
    "\n",
    "# The parameter search probability determines how likely an individual is mutated by optimizing\n",
    "# all it's parameter values. This should not be too large as this is costly. Here we will use\n",
    "# a probability of 0.25.\n",
    "parameter_search_probability = 0.25\n",
    "\n",
    "# The topological search probability determines how likely a circuit layer is added to an individual\n",
    "# as a mutation. This should be a higher probability to encourage exploration of different circuits.\n",
    "# Here we will use a likelihood of 0.5\n",
    "topological_search_probability = 0.5\n",
    "\n",
    "# The layer removal probability determines how likely circuit layers are removed from an individual\n",
    "# as a mutation. This is a very disruptive mutation and should only be used sparingly to counteract\n",
    "# circuit growth. Here we will use a probability of 0.1\n",
    "layer_removal_probability = 0.1\n",
    "\n",
    "configuration = EVQEMinimumEigensolverConfiguration(\n",
    "    sampler=sampler_primitive,\n",
    "    estimator=estimator_primitive,\n",
    "    optimizer=optimizer,\n",
    "    optimizer_n_circuit_evaluations=optimizer_n_circuit_evaluations,\n",
    "    dask_client=dask_client,\n",
    "    max_generations=max_generations,\n",
    "    max_circuit_evaluations=max_circuit_evaluations,\n",
    "    termination_criterion=termination_criterion,\n",
    "    random_seed=random_seed,\n",
    "    population_size=population_size,\n",
    "    randomize_initial_population_parameters=randomize_initial_population_parameters,\n",
    "    speciation_genetic_distance_threshold=speciation_genetic_distance_threshold,\n",
    "    selection_alpha_penalty=selection_alpha_penalty,\n",
    "    selection_beta_penalty=selection_beta_penalty,\n",
    "    parameter_search_probability=parameter_search_probability,\n",
    "    topological_search_probability=topological_search_probability,\n",
    "    layer_removal_probability=layer_removal_probability,\n",
    ")"
   ]
  },
  {
   "cell_type": "markdown",
   "metadata": {
    "collapsed": false,
    "jupyter": {
     "outputs_hidden": false
    }
   },
   "source": [
    "## Setup the EVQEMinimumEigensolver"
   ]
  },
  {
   "cell_type": "code",
   "execution_count": 5,
   "metadata": {
    "collapsed": false,
    "jupyter": {
     "outputs_hidden": false
    }
   },
   "outputs": [],
   "source": [
    "from queasars.minimum_eigensolvers.evqe.evqe import EVQEMinimumEigensolver\n",
    "\n",
    "eigensolver = EVQEMinimumEigensolver(configuration=configuration)"
   ]
  },
  {
   "cell_type": "markdown",
   "metadata": {
    "collapsed": false,
    "jupyter": {
     "outputs_hidden": false
    }
   },
   "source": [
    "## Solve the problem as posed in the hamiltonian"
   ]
  },
  {
   "cell_type": "code",
   "execution_count": 7,
   "metadata": {
    "collapsed": false,
    "jupyter": {
     "outputs_hidden": false
    }
   },
   "outputs": [
    {
     "name": "stderr",
     "output_type": "stream",
     "text": [
      "INFO:queasars.minimum_eigensolvers.base.evolving_ansatz_minimum_eigensolver:Starting generation: 0\n",
      "INFO:queasars.minimum_eigensolvers.base.evolving_ansatz_minimum_eigensolver:Expectation value of best individual found so far: -998\n",
      "INFO:queasars.minimum_eigensolvers.base.evolving_ansatz_minimum_eigensolver:Starting generation: 1\n",
      "INFO:queasars.minimum_eigensolvers.base.evolving_ansatz_minimum_eigensolver:Expectation value of best individual found so far: -1174\n",
      "INFO:queasars.minimum_eigensolvers.base.evolving_ansatz_minimum_eigensolver:Starting generation: 2\n",
      "INFO:queasars.minimum_eigensolvers.base.evolving_ansatz_minimum_eigensolver:Expectation value of best individual found so far: -1245\n",
      "INFO:queasars.minimum_eigensolvers.base.evolving_ansatz_minimum_eigensolver:Starting generation: 3\n",
      "INFO:queasars.minimum_eigensolvers.base.evolving_ansatz_minimum_eigensolver:Expectation value of best individual found so far: -1306\n",
      "INFO:queasars.minimum_eigensolvers.base.evolving_ansatz_minimum_eigensolver:Starting generation: 4\n",
      "INFO:queasars.minimum_eigensolvers.base.evolving_ansatz_minimum_eigensolver:Expectation value of best individual found so far: -1354\n",
      "INFO:queasars.minimum_eigensolvers.base.evolving_ansatz_minimum_eigensolver:Starting generation: 5\n",
      "INFO:queasars.minimum_eigensolvers.base.evolving_ansatz_minimum_eigensolver:Expectation value of best individual found so far: -1365\n",
      "INFO:queasars.minimum_eigensolvers.base.evolving_ansatz_minimum_eigensolver:Starting generation: 6\n",
      "INFO:queasars.minimum_eigensolvers.base.evolving_ansatz_minimum_eigensolver:Expectation value of best individual found so far: -1398\n",
      "INFO:queasars.minimum_eigensolvers.base.evolving_ansatz_minimum_eigensolver:Starting generation: 7\n",
      "INFO:queasars.minimum_eigensolvers.base.evolving_ansatz_minimum_eigensolver:Expectation value of best individual found so far: -1469\n",
      "INFO:queasars.minimum_eigensolvers.base.evolving_ansatz_minimum_eigensolver:Starting generation: 8\n",
      "INFO:queasars.minimum_eigensolvers.base.evolving_ansatz_minimum_eigensolver:Expectation value of best individual found so far: -1527\n",
      "INFO:queasars.minimum_eigensolvers.base.evolving_ansatz_minimum_eigensolver:Starting generation: 9\n",
      "INFO:queasars.minimum_eigensolvers.base.evolving_ansatz_minimum_eigensolver:Expectation value of best individual found so far: -1576\n",
      "INFO:queasars.minimum_eigensolvers.base.evolving_ansatz_minimum_eigensolver:Starting generation: 10\n",
      "INFO:qiskit.passmanager.base_tasks:Pass: ContainsInstruction - 0.00000 (ms)\n",
      "INFO:qiskit.passmanager.base_tasks:Pass: UnitarySynthesis - 0.00000 (ms)\n",
      "INFO:qiskit.passmanager.base_tasks:Pass: HighLevelSynthesis - 1.00303 (ms)\n",
      "INFO:qiskit.transpiler.passes.basis.basis_translator:Begin BasisTranslator from source basis {('measure', 1), ('cu3', 2), ('barrier', 10), ('u', 1)} to target basis {'if_else', 's', 'rzz', 'save_expval_var', 'rzx', 'save_state', 'save_superop', 'mcu', 'mcry', 'diagonal', 't', 'csx', 'cu1', 'sdg', 'mcz', 'kraus', 'set_matrix_product_state', 'delay', 'while_loop', 'mcu3', 'swap', 'cu2', 'tdg', 'rz', 'superop', 'unitary', 'id', 'ccx', 'continue_loop', 'quantum_channel', 'cz', 'for_loop', 'h', 'cu', 'ecr', 'save_density_matrix', 'z', 'save_probabilities', 'set_unitary', 'save_unitary', 'cy', 'mcrz', 'mcx', 'qerror_loc', 'mcphase', 'u3', 'set_stabilizer', 'y', 'break_loop', 'ry', 'p', 'snapshot', 'set_density_matrix', 'switch_case', 'mcrx', 'multiplexer', 'sx', 'r', 'mcu2', 'save_amplitudes', 'cp', 'save_expval', 'reset', 'initialize', 'mcp', 'u2', 'pauli', 'u', 'rxx', 'set_superop', 'save_statevector_dict', 'measure', 'cswap', 'x', 'barrier', 'save_statevector', 'save_matrix_product_state', 'rx', 'save_probabilities_dict', 'mcsx', 'ryy', 'mcy', 'save_amplitudes_sq', 'mcr', 'mcu1', 'roerror', 'cu3', 'cx', 'u1', 'sxdg', 'mcx_gray', 'save_clifford', 'mcswap', 'save_stabilizer', 'set_statevector'}.\n",
      "INFO:qiskit.transpiler.passes.basis.basis_translator:Basis translation path search completed in 0.000s.\n",
      "INFO:qiskit.transpiler.passes.basis.basis_translator:Basis translation paths composed in 0.001s.\n",
      "INFO:qiskit.transpiler.passes.basis.basis_translator:Basis translation instructions replaced in 0.000s.\n",
      "INFO:qiskit.passmanager.base_tasks:Pass: BasisTranslator - 25.03872 (ms)\n",
      "INFO:qiskit.passmanager.base_tasks:Pass: AerBackendRebuildGateSetsFromCircuit - 0.00000 (ms)\n",
      "INFO:qiskit.passmanager.base_tasks:Pass: Depth - 0.00000 (ms)\n",
      "INFO:qiskit.passmanager.base_tasks:Pass: FixedPoint - 0.00000 (ms)\n",
      "INFO:qiskit.passmanager.base_tasks:Pass: Size - 0.00000 (ms)\n",
      "INFO:qiskit.passmanager.base_tasks:Pass: FixedPoint - 0.00000 (ms)\n",
      "INFO:qiskit.passmanager.base_tasks:Pass: Optimize1qGatesDecomposition - 0.99683 (ms)\n",
      "INFO:qiskit.passmanager.base_tasks:Pass: CXCancellation - 0.99969 (ms)\n",
      "INFO:qiskit.passmanager.base_tasks:Pass: GatesInBasis - 0.00000 (ms)\n",
      "INFO:qiskit.passmanager.base_tasks:Pass: Depth - 0.00000 (ms)\n",
      "INFO:qiskit.passmanager.base_tasks:Pass: FixedPoint - 0.00000 (ms)\n",
      "INFO:qiskit.passmanager.base_tasks:Pass: Size - 0.00000 (ms)\n",
      "INFO:qiskit.passmanager.base_tasks:Pass: FixedPoint - 0.00000 (ms)\n",
      "INFO:qiskit.passmanager.base_tasks:Pass: ContainsInstruction - 0.00000 (ms)\n",
      "INFO:qiskit.compiler.transpiler:Total Transpile Time - 82.16619 (ms)\n"
     ]
    }
   ],
   "source": [
    "import logging\n",
    "\n",
    "logging.basicConfig(level=logging.INFO)\n",
    "\n",
    "result = eigensolver.compute_minimum_eigenvalue(operator=hamiltonian)\n",
    "quasi_distribution = result.eigenstate.binary_probabilities()\n"
   ]
  },
  {
   "cell_type": "markdown",
   "metadata": {
    "collapsed": false,
    "jupyter": {
     "outputs_hidden": false
    }
   },
   "source": [
    "## Plot the distribution"
   ]
  },
  {
   "cell_type": "code",
   "execution_count": 8,
   "metadata": {
    "collapsed": false,
    "jupyter": {
     "outputs_hidden": false
    }
   },
   "outputs": [
    {
     "data": {
      "text/plain": "<Figure size 700x500 with 1 Axes>",
      "image/png": "[encoded data removed]"
     },
     "execution_count": 8,
     "metadata": {},
     "output_type": "execute_result"
    }
   ],
   "source": [
    "from qiskit.visualization import plot_distribution\n",
    "\n",
    "plot_distribution(quasi_distribution, number_to_keep=10)"
   ]
  },
  {
   "cell_type": "markdown",
   "source": [
    "## use the integer translator to retrieve your variables"
   ],
   "metadata": {
    "collapsed": false
   }
  },
  {
   "cell_type": "code",
   "execution_count": 9,
   "outputs": [
    {
     "name": "stdout",
     "output_type": "stream",
     "text": [
      "probability:  0.4501953125\n",
      "variable values:  [ 4. 15.  0.  1.]\n",
      "\n",
      "probability:  0.0732421875\n",
      "variable values:  [ 8. 15.  0.  1.]\n",
      "\n",
      "probability:  0.123046875\n",
      "variable values:  [ 0. 15.  0.  1.]\n",
      "\n",
      "probability:  0.259765625\n",
      "variable values:  [12. 15.  0.  1.]\n",
      "\n"
     ]
    }
   ],
   "source": [
    "for bitstring, probability in quasi_distribution.items():\n",
    "    if probability < 0.05:\n",
    "        continue\n",
    "\n",
    "    bitlist = [int(char) for char in bitstring][::-1]\n",
    "    converted_variables = integer_converter.interpret(bitlist)\n",
    "    print(\"probability: \", probability)\n",
    "    print(\"variable values: \", converted_variables)\n",
    "    print(\"\")"
   ],
   "metadata": {
    "collapsed": false
   }
  }
 ],
 "metadata": {
  "kernelspec": {
   "display_name": "Python 3 (ipykernel)",
   "language": "python",
   "name": "python3"
  },
  "language_info": {
   "codemirror_mode": {
    "name": "ipython",
    "version": 3
   },
   "file_extension": ".py",
   "mimetype": "text/x-python",
   "name": "python",
   "nbconvert_exporter": "python",
   "pygments_lexer": "ipython3",
   "version": "3.11.1"
  }
 },
 "nbformat": 4,
 "nbformat_minor": 4
}
