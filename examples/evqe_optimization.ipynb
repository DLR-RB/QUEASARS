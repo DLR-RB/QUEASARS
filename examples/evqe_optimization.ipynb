{
 "cells": [
  {
   "cell_type": "code",
   "metadata": {
    "collapsed": true,
    "jupyter": {
     "outputs_hidden": true
    },
    "ExecuteTime": {
     "end_time": "2024-07-22T09:29:42.332448Z",
     "start_time": "2024-07-22T09:29:42.318161Z"
    }
   },
   "source": [
    "from pathlib import Path\n",
    "import os\n",
    "import sys\n",
    "\n",
    "main_directory = Path(os.path.abspath(\"\")).parent\n",
    "sys.path.append(str(main_directory))"
   ],
   "outputs": [],
   "execution_count": 1
  },
  {
   "cell_type": "markdown",
   "metadata": {
    "collapsed": false,
    "jupyter": {
     "outputs_hidden": false
    }
   },
   "source": [
    "## Create a quadratic model in docplex"
   ]
  },
  {
   "cell_type": "code",
   "metadata": {
    "collapsed": false,
    "jupyter": {
     "outputs_hidden": false
    },
    "ExecuteTime": {
     "end_time": "2024-07-22T09:29:42.981452Z",
     "start_time": "2024-07-22T09:29:42.337474Z"
    }
   },
   "source": [
    "from docplex.mp.model import Model\n",
    "\n",
    "# set up the model for optimization in docplex\n",
    "optimization_problem = Model()\n",
    "\n",
    "# add the needed variables\n",
    "x = optimization_problem.integer_var(0, 15, \"x\")\n",
    "y = optimization_problem.integer_var(0, 15, \"y\")\n",
    "a = optimization_problem.binary_var(\"a\")\n",
    "b = optimization_problem.binary_var(\"b\")\n",
    "\n",
    "# formally describe the minimization task\n",
    "optimization_problem.minimize((2*x-y)**2 + 100*a*x - 100*b*y + (a + b - 1)**2)"
   ],
   "outputs": [],
   "execution_count": 2
  },
  {
   "cell_type": "markdown",
   "source": [],
   "metadata": {
    "collapsed": false
   }
  },
  {
   "cell_type": "markdown",
   "metadata": {
    "collapsed": false,
    "jupyter": {
     "outputs_hidden": false
    }
   },
   "source": [
    "## Convert the docplex model to a qiskit hamiltonian"
   ]
  },
  {
   "cell_type": "code",
   "metadata": {
    "collapsed": false,
    "jupyter": {
     "outputs_hidden": false
    },
    "ExecuteTime": {
     "end_time": "2024-07-22T09:29:44.752369Z",
     "start_time": "2024-07-22T09:29:42.985548Z"
    }
   },
   "source": [
    "from qiskit_optimization.translators import from_docplex_mp, to_ising\n",
    "from qiskit_optimization.converters import IntegerToBinary\n",
    "\n",
    "# convert to a quadratic program\n",
    "quadratic_program = from_docplex_mp(model=optimization_problem)\n",
    "\n",
    "# some variables are still integers, convert them to binary variables\n",
    "integer_converter = IntegerToBinary()\n",
    "quadratic_program = integer_converter.convert(problem=quadratic_program)\n",
    "\n",
    "# convert the quadratic program to an ising hamiltonian\n",
    "hamiltonian, offset = to_ising(quad_prog=quadratic_program)"
   ],
   "outputs": [],
   "execution_count": 3
  },
  {
   "cell_type": "markdown",
   "metadata": {
    "collapsed": false,
    "jupyter": {
     "outputs_hidden": false
    }
   },
   "source": [
    "## Setup the configuration for the EVQEMinimumEigensolver"
   ]
  },
  {
   "cell_type": "code",
   "metadata": {
    "collapsed": false,
    "jupyter": {
     "outputs_hidden": false
    },
    "ExecuteTime": {
     "end_time": "2024-07-22T09:29:46.724069Z",
     "start_time": "2024-07-22T09:29:44.754549Z"
    }
   },
   "source": [
    "from qiskit_aer.primitives import SamplerV2, EstimatorV2\n",
    "from qiskit_algorithms.optimizers import SPSA\n",
    "\n",
    "from queasars.circuit_evaluation.configured_primitives import ConfiguredEstimatorV2, ConfiguredSamplerV2\n",
    "from queasars.minimum_eigensolvers.base.termination_criteria import BestIndividualRelativeChangeTolerance\n",
    "from queasars.minimum_eigensolvers.evqe.evqe import EVQEMinimumEigensolverConfiguration\n",
    "\n",
    "# The EVQEMinimumEigensolver needs a sampler and can also use an estimator.\n",
    "# Here we use the sampler and estimator provided by the qiskit_aer simulator.\n",
    "configured_sampler = ConfiguredSamplerV2(\n",
    "    sampler=SamplerV2(),\n",
    "    shots=4000,\n",
    ")\n",
    "configured_estimator = ConfiguredEstimatorV2(\n",
    "    estimator=EstimatorV2(),\n",
    "    precision=0.01,\n",
    ")\n",
    "\n",
    "# A PassManager can be given to specify the transpilation process.\n",
    "# This is important if running on real quantum hardware!\n",
    "pass_manager = None\n",
    "\n",
    "# The EVQEMinimumEigensolver also needs a qiskit optimizer. It should be\n",
    "# configured to terminate quickly, so that mutations are not overtly expensive.\n",
    "# Here we use the SPSA optimizer with a limited amount of iterations and a\n",
    "# large step size.\n",
    "optimizer = SPSA(maxiter=33, perturbation=0.35, learning_rate=0.43, trust_region=True)\n",
    "\n",
    "# To help the EVQEMinimumEigensolver deal correctly with terminations based\n",
    "# on the amount of circuit evaluations used, an estimate can be given for how\n",
    "# many circuit evaluations the optimizer uses per optimization run.\n",
    "# SPSA makes two measurements per iteration, which means in total it will\n",
    "# need 66 circuit evaluations for 33 iterations.\n",
    "optimizer_n_circuit_evaluations = 66\n",
    "\n",
    "# To specify when the EVQEMinimumEigensolver should terminate either max_generations,\n",
    "# max_circuit_evaluations or a termination_criterion should be given.\n",
    "# Here we choose to terminate once the expectation value of the best individual of a generation\n",
    "# changes by less than 1% between generations for two consecutive generations.\n",
    "max_generations = None\n",
    "max_circuit_evaluations = None\n",
    "termination_criterion = BestIndividualRelativeChangeTolerance(minimum_relative_change=0.01, allowed_consecutive_violations=1)\n",
    "\n",
    "# A random seed can be provided to control the randomness of the evolutionary process.\n",
    "random_seed = 0\n",
    "\n",
    "# The population size determines how many individuals are evaluated each generation.\n",
    "# With a higher population size, fewer generations might be needed, but this also\n",
    "# makes each generation more expensive to evaluate. A reasonable range might be\n",
    "# 10 - 100 individuals per population. Here we use a population size of 10.\n",
    "population_size = 10\n",
    "\n",
    "# The initial individuals in the starting population can be initialized with\n",
    "# an arbitrary amount of layers and fully randomized parameter values. This\n",
    "# can be particularly useful if the state |0 .. 0> is a local minima and\n",
    "# the individuals should not start in that state\n",
    "n_initial_layers = 2\n",
    "randomize_initial_parameter_values = True\n",
    "\n",
    "# Determines how many circuit layers apart two individuals need to be, to be considered to\n",
    "# be of a different species. Reasonable values might be in the range 1 - 5. Here we use 1.\n",
    "speciation_genetic_distance_threshold = 1\n",
    "\n",
    "# This implementation of EVQE offers both roulette wheel selection and tournament selection.\n",
    "# Since tournament selection is more robust, we use it here.\n",
    "use_tournament_selection = True\n",
    "tournament_size = 2\n",
    "\n",
    "# The alpha and beta penalties penalize quantum circuits of increasing depth (alpha) and\n",
    "# increasing amount of controlled rotations (beta). increase them if the quantum circuits get to\n",
    "# deep or complicated.\n",
    "selection_alpha_penalty = 0.15\n",
    "selection_beta_penalty = 0.02\n",
    "\n",
    "# The parameter search probability determines how likely an individual is mutated by optimizing\n",
    "# all it's parameter values. This should not be too large as this is costly. Here we will use\n",
    "# a probability of 0.39.\n",
    "parameter_search_probability = 0.39\n",
    "\n",
    "# The topological search probability determines how likely a circuit layer is added to an individual\n",
    "# as a mutation. This should be a higher probability to encourage exploration of different circuits.\n",
    "# Here we will use a likelihood of 0.79\n",
    "topological_search_probability = 0.79\n",
    "\n",
    "# The layer removal probability determines how likely circuit layers are removed from an individual\n",
    "# as a mutation. This is a very disruptive mutation and should only be used sparingly to counteract\n",
    "# circuit growth. Here we will use a probability of 0.02\n",
    "layer_removal_probability = 0.02\n",
    "\n",
    "# An executor for launching parallel computation can be specified.\n",
    "# This can be a dask Client or a python ThreadPoolExecutor. If None is\n",
    "# specified a ThreadPoolExecutor with population_size many threads will\n",
    "# be used\n",
    "parallel_executor = None\n",
    "\n",
    "# Discerns whether to only allow mutually exclusive access to the Sampler and\n",
    "# Estimator primitive respectively. This is needed if the Sampler or Estimator are not threadsafe and\n",
    "# a ThreadPoolExecutor with more than one thread or a Dask Client with more than one thread per process is used.\n",
    "# For safety reasons this is enabled by default. If the sampler and estimator are threadsafe disabling this\n",
    "# option may lead to performance improvements\n",
    "mutually_exclusive_primitives = False\n",
    "\n",
    "configuration = EVQEMinimumEigensolverConfiguration(\n",
    "    configured_sampler=configured_sampler,\n",
    "    configured_estimator=configured_estimator,\n",
    "    pass_manager=pass_manager,\n",
    "    optimizer=optimizer,\n",
    "    optimizer_n_circuit_evaluations=optimizer_n_circuit_evaluations,\n",
    "    max_generations=max_generations,\n",
    "    max_circuit_evaluations=max_circuit_evaluations,\n",
    "    termination_criterion=termination_criterion,\n",
    "    random_seed=random_seed,\n",
    "    population_size=population_size,\n",
    "    randomize_initial_population_parameters=randomize_initial_parameter_values,\n",
    "    n_initial_layers=n_initial_layers,\n",
    "    speciation_genetic_distance_threshold=speciation_genetic_distance_threshold,\n",
    "    use_tournament_selection=use_tournament_selection,\n",
    "    tournament_size=tournament_size,\n",
    "    selection_alpha_penalty=selection_alpha_penalty,\n",
    "    selection_beta_penalty=selection_beta_penalty,\n",
    "    parameter_search_probability=parameter_search_probability,\n",
    "    topological_search_probability=topological_search_probability,\n",
    "    layer_removal_probability=layer_removal_probability,\n",
    "    parallel_executor=parallel_executor,\n",
    "    mutually_exclusive_primitives=mutually_exclusive_primitives,\n",
    ")"
   ],
   "outputs": [],
   "execution_count": 4
  },
  {
   "cell_type": "markdown",
   "metadata": {
    "collapsed": false,
    "jupyter": {
     "outputs_hidden": false
    }
   },
   "source": [
    "## Setup the EVQEMinimumEigensolver"
   ]
  },
  {
   "cell_type": "code",
   "metadata": {
    "collapsed": false,
    "jupyter": {
     "outputs_hidden": false
    },
    "ExecuteTime": {
     "end_time": "2024-07-22T09:29:48.187803Z",
     "start_time": "2024-07-22T09:29:46.728071Z"
    }
   },
   "source": [
    "from queasars.minimum_eigensolvers.evqe.evqe import EVQEMinimumEigensolver\n",
    "\n",
    "eigensolver = EVQEMinimumEigensolver(configuration=configuration)"
   ],
   "outputs": [],
   "execution_count": 5
  },
  {
   "cell_type": "markdown",
   "metadata": {
    "collapsed": false,
    "jupyter": {
     "outputs_hidden": false
    }
   },
   "source": [
    "## Solve the problem as posed in the hamiltonian"
   ]
  },
  {
   "cell_type": "code",
   "metadata": {
    "collapsed": false,
    "jupyter": {
     "outputs_hidden": false
    },
    "ExecuteTime": {
     "end_time": "2024-07-22T09:31:55.029998Z",
     "start_time": "2024-07-22T09:29:48.188815Z"
    }
   },
   "source": [
    "import logging\n",
    "\n",
    "logger = logging.getLogger(\"queasars.minimum_eigensolvers.base.evolving_ansatz_minimum_eigensolver\")\n",
    "handler = logging.StreamHandler()\n",
    "logger.setLevel(logging.INFO)\n",
    "logger.addHandler(handler)\n",
    "\n",
    "result = eigensolver.compute_minimum_eigenvalue(operator=hamiltonian)\n",
    "quasi_distribution = result.eigenstate.binary_probabilities()\n"
   ],
   "outputs": [
    {
     "name": "stderr",
     "output_type": "stream",
     "text": [
      "Starting evolution!\n",
      "Results for generation: 0\n",
      "Current best expectation value: -1284.271595\n",
      "Current median expectation value: -703.162166\n",
      "Current average expectation value: -655.842839\n",
      "Results for generation: 1\n",
      "Current best expectation value: -1612.895173\n",
      "Current median expectation value: -1367.653941\n",
      "Current average expectation value: -1320.791436\n",
      "Results for generation: 2\n",
      "Current best expectation value: -1622.270008\n",
      "Current median expectation value: -1521.649648\n",
      "Current average expectation value: -1482.536990\n",
      "Results for generation: 3\n",
      "Current best expectation value: -1632.443528\n",
      "Current median expectation value: -1570.370227\n",
      "Current average expectation value: -1541.901151\n"
     ]
    }
   ],
   "execution_count": 6
  },
  {
   "cell_type": "markdown",
   "metadata": {
    "collapsed": false,
    "jupyter": {
     "outputs_hidden": false
    }
   },
   "source": [
    "## Plot the distribution"
   ]
  },
  {
   "cell_type": "code",
   "metadata": {
    "collapsed": false,
    "jupyter": {
     "outputs_hidden": false
    },
    "ExecuteTime": {
     "end_time": "2024-07-22T09:31:56.265223Z",
     "start_time": "2024-07-22T09:31:55.031510Z"
    }
   },
   "source": [
    "from qiskit.visualization import plot_distribution\n",
    "\n",
    "plot_distribution(quasi_distribution, number_to_keep=10)"
   ],
   "outputs": [
    {
     "data": {
      "text/plain": [
       "<Figure size 700x500 with 1 Axes>"
      ],
      "image/png": "[encoded data removed]"
     },
     "execution_count": 7,
     "metadata": {},
     "output_type": "execute_result"
    }
   ],
   "execution_count": 7
  },
  {
   "cell_type": "markdown",
   "source": [
    "## use the integer translator to retrieve your variables"
   ],
   "metadata": {
    "collapsed": false
   }
  },
  {
   "cell_type": "code",
   "source": [
    "for bitstring, probability in quasi_distribution.items():\n",
    "    if probability < 0.05:\n",
    "        continue\n",
    "\n",
    "    bitlist = [int(char) for char in bitstring][::-1]\n",
    "    converted_variables = integer_converter.interpret(bitlist)\n",
    "    print(\"probability: \", probability)\n",
    "    print(\"variable values: \", converted_variables)\n",
    "    print(\"\")"
   ],
   "metadata": {
    "collapsed": false,
    "ExecuteTime": {
     "end_time": "2024-07-22T09:31:56.279075Z",
     "start_time": "2024-07-22T09:31:56.268351Z"
    }
   },
   "outputs": [
    {
     "name": "stdout",
     "output_type": "stream",
     "text": [
      "probability:  0.28825\n",
      "variable values:  [ 5. 15.  0.  1.]\n",
      "\n",
      "probability:  0.3225\n",
      "variable values:  [ 6. 15.  0.  1.]\n",
      "\n",
      "probability:  0.2955\n",
      "variable values:  [ 7. 15.  0.  1.]\n",
      "\n"
     ]
    }
   ],
   "execution_count": 8
  }
 ],
 "metadata": {
  "kernelspec": {
   "display_name": "Python 3 (ipykernel)",
   "language": "python",
   "name": "python3"
  },
  "language_info": {
   "codemirror_mode": {
    "name": "ipython",
    "version": 3
   },
   "file_extension": ".py",
   "mimetype": "text/x-python",
   "name": "python",
   "nbconvert_exporter": "python",
   "pygments_lexer": "ipython3",
   "version": "3.11.1"
  }
 },
 "nbformat": 4,
 "nbformat_minor": 4
}
