{
 "cells": [
  {
   "cell_type": "code",
   "execution_count": 1,
   "metadata": {
    "collapsed": true,
    "jupyter": {
     "outputs_hidden": true
    }
   },
   "outputs": [],
   "source": [
    "from pathlib import Path\n",
    "import os\n",
    "import sys\n",
    "\n",
    "main_directory = Path(os.path.abspath(\"\")).parent\n",
    "sys.path.append(str(main_directory))"
   ]
  },
  {
   "cell_type": "markdown",
   "metadata": {
    "collapsed": false,
    "jupyter": {
     "outputs_hidden": false
    }
   },
   "source": [
    "## Create a JSSP problem instance"
   ]
  },
  {
   "cell_type": "code",
   "execution_count": 2,
   "outputs": [
    {
     "name": "stdout",
     "output_type": "stream",
     "text": [
      "jssp1\n",
      "  Machines:\n",
      "    m1\n",
      "    m2\n",
      "    m3\n",
      "  Jobs:\n",
      "    j1:\n",
      "      j1_op1(m1, 1)\n",
      "      j1_op2(m2, 1)\n",
      "      j1_op3(m3, 1)\n",
      "    j2:\n",
      "      j2_op1(m3, 1)\n",
      "      j2_op2(m2, 1)\n",
      "      j2_op3(m1, 1)\n",
      "    j3:\n",
      "      j3_op1(m2, 1)\n",
      "      j3_op2(m3, 1)\n",
      "\n"
     ]
    }
   ],
   "source": [
    "from queasars.job_shop_scheduling.problem_instances import Machine, Operation, Job, JobShopSchedulingProblemInstance\n",
    "\n",
    "machines = (Machine(name=\"m1\"), Machine(name=\"m2\"), Machine(name=\"m3\"))\n",
    "\n",
    "j1op1 = Operation(name=\"op1\", job_name=\"j1\", machine=machines[0], processing_duration=1)\n",
    "j1op2 = Operation(name=\"op2\", job_name=\"j1\", machine=machines[1], processing_duration=1)\n",
    "j1op3 = Operation(name=\"op3\", job_name=\"j1\", machine=machines[2], processing_duration=1)\n",
    "job1 = Job(name=\"j1\", operations=(j1op1, j1op2, j1op3))\n",
    "\n",
    "j2op1 = Operation(name=\"op1\", job_name=\"j2\", machine=machines[2], processing_duration=1)\n",
    "j2op2 = Operation(name=\"op2\", job_name=\"j2\", machine=machines[1], processing_duration=1)\n",
    "j2op3 = Operation(name=\"op3\", job_name=\"j2\", machine=machines[0], processing_duration=1)\n",
    "job2 = Job(name=\"j2\", operations=(j2op1, j2op2, j2op3))\n",
    "\n",
    "j3op1 = Operation(name=\"op1\", job_name=\"j3\", machine=machines[1], processing_duration=1)\n",
    "j3op2 = Operation(name=\"op2\", job_name=\"j3\", machine=machines[2], processing_duration=1)\n",
    "job3 = Job(name=\"j3\", operations=(j3op1, j3op2))\n",
    "\n",
    "jssp_instance = JobShopSchedulingProblemInstance(name=\"jssp1\", machines=machines, jobs=(job1, job2, job3))\n",
    "\n",
    "print(jssp_instance)"
   ],
   "metadata": {
    "collapsed": false
   }
  },
  {
   "cell_type": "markdown",
   "source": [
    "## Visualize the created problem instance (optional)"
   ],
   "metadata": {
    "collapsed": false
   }
  },
  {
   "cell_type": "code",
   "execution_count": 3,
   "outputs": [
    {
     "data": {
      "text/plain": "<Figure size 640x480 with 1 Axes>",
      "image/png": "[encoded data removed]"
     },
     "metadata": {},
     "output_type": "display_data"
    }
   ],
   "source": [
    "from queasars.job_shop_scheduling.visualization import plot_jssp_problem_instance_gantt\n",
    "\n",
    "plot = plot_jssp_problem_instance_gantt(problem_instance=jssp_instance)"
   ],
   "metadata": {
    "collapsed": false
   }
  },
  {
   "cell_type": "markdown",
   "source": [
    "## Convert the problem instance to a hamiltonian"
   ],
   "metadata": {
    "collapsed": false
   }
  },
  {
   "cell_type": "code",
   "execution_count": 4,
   "outputs": [
    {
     "name": "stdout",
     "output_type": "stream",
     "text": [
      "needed qubits:  10\n"
     ]
    }
   ],
   "source": [
    "from queasars.job_shop_scheduling.domain_wall_hamiltonian_encoder import JSSPDomainWallHamiltonianEncoder\n",
    "\n",
    "encoder = JSSPDomainWallHamiltonianEncoder(jssp_instance=jssp_instance, makespan_limit=4, max_opt_value=100, opt_all_operations_share=0.19, encoding_penalty=319, overlap_constraint_penalty=319, precedence_constraint_penalty=275)\n",
    "\n",
    "print(\"needed qubits: \", encoder.n_qubits)\n",
    "\n",
    "hamiltonian = encoder.get_problem_hamiltonian()"
   ],
   "metadata": {
    "collapsed": false
   }
  },
  {
   "cell_type": "markdown",
   "metadata": {
    "collapsed": false,
    "jupyter": {
     "outputs_hidden": false
    }
   },
   "source": [
    "## Setup the configuration for the EVQEMinimumEigensolver"
   ]
  },
  {
   "cell_type": "code",
   "execution_count": 5,
   "metadata": {
    "collapsed": false,
    "jupyter": {
     "outputs_hidden": false
    }
   },
   "outputs": [],
   "source": [
    "from qiskit_aer.primitives import Sampler\n",
    "from qiskit_algorithms.optimizers import SPSA\n",
    "\n",
    "from dask.distributed import LocalCluster\n",
    "\n",
    "from queasars.minimum_eigensolvers.base.termination_criteria import BestIndividualRelativeChangeTolerance\n",
    "from queasars.minimum_eigensolvers.evqe.evqe import EVQEMinimumEigensolverConfiguration\n",
    "\n",
    "# The EVQEMinimumEigensolver needs at least a sampler and can also use an estimator.\n",
    "# Here we only use a sampler, as the Critical Value at Risk objective value can\n",
    "# can only be used when only using the sampler.\n",
    "sampler_primitive = Sampler()\n",
    "estimator_primitive = None\n",
    "\n",
    "# If only a sampler is used, the expectation value with respect to the Hamiltonian\n",
    "# is calculated using the measurement distribution provided by the sampler. This\n",
    "# expectation value can also be calculated over only the lower tail of that distribution.\n",
    "# In that case the objective score is also called the Critical Value at Risk.\n",
    "distribution_alpha_tail = 0.5\n",
    "\n",
    "# The EVQEMinimumEigensolver also needs a qiskit optimizer. It should be\n",
    "# configured to terminate quickly, so that mutations are not overtly expensive.\n",
    "# Here we use the SPSA optimizer with a very limited amount of iterations and a\n",
    "# large step size.\n",
    "optimizer = SPSA(maxiter=33, perturbation=0.35, learning_rate=0.43, trust_region=True, last_avg=1, resamplings=1)\n",
    "\n",
    "# To help the EVQEMinimumEigensolver deal correctly with terminations based\n",
    "# on the amount of circuit evaluations used, an estimate can be given for how\n",
    "# many circuit evaluations the optimizer uses per optimization run.\n",
    "# SPSA makes two measurements per gradient approximation, which means in total it will\n",
    "# need 66 circuit evaluations for 33 iterations.\n",
    "optimizer_n_circuit_evaluations = 66\n",
    "\n",
    "# To specify when the EVQEMinimumEigensolver should terminate either max_generations,\n",
    "# max_circuit_evaluations or a termination_criterion should be given.\n",
    "max_generations = None\n",
    "max_circuit_evaluations = None\n",
    "termination_criterion = BestIndividualRelativeChangeTolerance(minimum_relative_change=0.01, allowed_consecutive_violations=1)\n",
    "\n",
    "# A random seed can be provided to control the randomness of the evolutionary process.\n",
    "random_seed = None\n",
    "\n",
    "# The population size determines how many individuals are evaluated each generation.\n",
    "# With a higher population size, fewer generations might be needed, but this also\n",
    "# makes each generation more expensive to evaluate. A reasonable range might be\n",
    "# 10 - 100 individuals per population.\n",
    "population_size = 10\n",
    "\n",
    "# The initial individuals in the starting population can be initialized with\n",
    "# an arbitrary amount of layers and fully randomized parameter values. This\n",
    "# can be particularly useful if the state |0 .. 0> is a local minima and\n",
    "# the individuals should not start in that state\n",
    "n_initial_layers = 2\n",
    "randomize_initial_parameter_values = True\n",
    "\n",
    "# Determines how many circuit layers apart two individuals need to be, to be considered to\n",
    "# be of a different species. Reasonable values might be in the range 1 - 5.\n",
    "speciation_genetic_distance_threshold = 1\n",
    "\n",
    "# This implementation of EVQE offers both roulette wheel selection and tournament selection.\n",
    "# Since tournament selection is more robust, we use it here.\n",
    "use_tournament_selection = True\n",
    "tournament_size = 2\n",
    "\n",
    "# The alpha and beta penalties penalize quantum circuits of increasing depth (alpha) and\n",
    "# increasing amount of controlled rotations (beta). increase them if the quantum circuits get to\n",
    "# deep or complicated.\n",
    "selection_alpha_penalty = 0.15\n",
    "selection_beta_penalty = 0.02\n",
    "\n",
    "# The parameter search probability determines how likely an individual is mutated by optimizing\n",
    "# all it's parameter values. This should not be too large as this is costly.\n",
    "parameter_search_probability = 0.39\n",
    "\n",
    "# The topological search probability determines how likely a circuit layer is added to an individual\n",
    "# as a mutation.\n",
    "topological_search_probability = 0.79\n",
    "\n",
    "# The layer removal probability determines how likely circuit layers are removed from an individual\n",
    "# as a mutation. This is a very disruptive mutation and should only be used sparingly to counteract\n",
    "# circuit growth.\n",
    "layer_removal_probability = 0.02\n",
    "\n",
    "# An executor for launching parallel computation can be specified.\n",
    "# This can be a dask Client or a python ThreadPoolExecutor. If None is\n",
    "# specified a ThreadPoolExecutor with population_size many threads will\n",
    "# be used\n",
    "parallel_executor = LocalCluster(n_workers=10, processes=True, threads_per_worker=1).get_client()\n",
    "\n",
    "# Discerns whether to only allow mutually exclusive access to the Sampler and\n",
    "# Estimator primitive respectively. This is needed if the Sampler or Estimator are not threadsafe and\n",
    "# a ThreadPoolExecutor with more than one thread or a Dask Client with more than one thread per process is used.\n",
    "# For safety reasons this is enabled by default. If the sampler and estimator are threadsafe disabling this\n",
    "# option may lead to performance improvements\n",
    "mutually_exclusive_primitives = False\n",
    "\n",
    "configuration = EVQEMinimumEigensolverConfiguration(\n",
    "    sampler=sampler_primitive,\n",
    "    estimator=estimator_primitive,\n",
    "    distribution_alpha_tail=distribution_alpha_tail,\n",
    "    optimizer=optimizer,\n",
    "    optimizer_n_circuit_evaluations=optimizer_n_circuit_evaluations,\n",
    "    max_generations=max_generations,\n",
    "    max_circuit_evaluations=max_circuit_evaluations,\n",
    "    termination_criterion=termination_criterion,\n",
    "    random_seed=random_seed,\n",
    "    population_size=population_size,\n",
    "    n_initial_layers=n_initial_layers,\n",
    "    randomize_initial_population_parameters=randomize_initial_parameter_values,\n",
    "    speciation_genetic_distance_threshold=speciation_genetic_distance_threshold,\n",
    "    use_tournament_selection=use_tournament_selection,\n",
    "    tournament_size=tournament_size,\n",
    "    selection_alpha_penalty=selection_alpha_penalty,\n",
    "    selection_beta_penalty=selection_beta_penalty,\n",
    "    parameter_search_probability=parameter_search_probability,\n",
    "    topological_search_probability=topological_search_probability,\n",
    "    layer_removal_probability=layer_removal_probability,\n",
    "    parallel_executor=parallel_executor,\n",
    "    mutually_exclusive_primitives=mutually_exclusive_primitives,\n",
    ")"
   ]
  },
  {
   "cell_type": "markdown",
   "metadata": {
    "collapsed": false,
    "jupyter": {
     "outputs_hidden": false
    }
   },
   "source": [
    "## Setup the EVQEMinimumEigensolver"
   ]
  },
  {
   "cell_type": "code",
   "execution_count": 6,
   "metadata": {
    "collapsed": false,
    "jupyter": {
     "outputs_hidden": false
    }
   },
   "outputs": [],
   "source": [
    "from queasars.minimum_eigensolvers.evqe.evqe import EVQEMinimumEigensolver\n",
    "\n",
    "eigensolver = EVQEMinimumEigensolver(configuration=configuration)"
   ]
  },
  {
   "cell_type": "markdown",
   "metadata": {
    "collapsed": false,
    "jupyter": {
     "outputs_hidden": false
    }
   },
   "source": [
    "## Solve the problem as posed in the hamiltonian"
   ]
  },
  {
   "cell_type": "code",
   "execution_count": 7,
   "metadata": {
    "collapsed": false,
    "jupyter": {
     "outputs_hidden": false
    }
   },
   "outputs": [
    {
     "name": "stderr",
     "output_type": "stream",
     "text": [
      "Starting evolution!\n",
      "Results for generation: 0\n",
      "Current best expectation value: 195.974512\n",
      "Current median expectation value: 520.687610\n",
      "Current average expectation value: 694.544087\n",
      "Results for generation: 1\n",
      "Current best expectation value: 39.237500\n",
      "Current median expectation value: 285.497021\n",
      "Current average expectation value: 269.321477\n",
      "Results for generation: 2\n",
      "Current best expectation value: 39.237500\n",
      "Current median expectation value: 191.048340\n",
      "Current average expectation value: 188.330281\n",
      "Results for generation: 3\n",
      "Current best expectation value: 39.237500\n",
      "Current median expectation value: 63.089978\n",
      "Current average expectation value: 77.859556\n"
     ]
    }
   ],
   "source": [
    "import logging\n",
    "\n",
    "logger = logging.getLogger(\"queasars.minimum_eigensolvers.base.evolving_ansatz_minimum_eigensolver\")\n",
    "handler = logging.StreamHandler()\n",
    "logger.setLevel(logging.INFO)\n",
    "logger.addHandler(handler)\n",
    "\n",
    "result = eigensolver.compute_minimum_eigenvalue(operator=hamiltonian)\n",
    "quasi_distribution = result.eigenstate.binary_probabilities()\n"
   ]
  },
  {
   "cell_type": "markdown",
   "metadata": {
    "collapsed": false,
    "jupyter": {
     "outputs_hidden": false
    }
   },
   "source": [
    "## Plot the distribution"
   ]
  },
  {
   "cell_type": "code",
   "execution_count": 8,
   "metadata": {
    "collapsed": false,
    "jupyter": {
     "outputs_hidden": false
    }
   },
   "outputs": [
    {
     "data": {
      "text/plain": "<Figure size 700x500 with 1 Axes>",
      "image/png": "[encoded data removed]"
     },
     "execution_count": 8,
     "metadata": {},
     "output_type": "execute_result"
    }
   ],
   "source": [
    "from qiskit.visualization import plot_distribution\n",
    "\n",
    "plot_distribution(quasi_distribution, number_to_keep=10)"
   ]
  },
  {
   "cell_type": "markdown",
   "source": [
    "## use the encoder to retrieve the solution"
   ],
   "metadata": {
    "collapsed": false
   }
  },
  {
   "cell_type": "code",
   "execution_count": 9,
   "outputs": [
    {
     "name": "stdout",
     "output_type": "stream",
     "text": [
      "probability:  0.6904296875 is valid:  True\n",
      "jssp1 solution with makespan 4\n",
      "  j1:\n",
      "    j1_op1(m1, 1) starts at: 0 and ends at: 1\n",
      "    j1_op2(m2, 1) starts at: 2 and ends at: 3\n",
      "    j1_op3(m3, 1) starts at: 3 and ends at: 4\n",
      "  j2:\n",
      "    j2_op1(m3, 1) starts at: 0 and ends at: 1\n",
      "    j2_op2(m2, 1) starts at: 1 and ends at: 2\n",
      "    j2_op3(m1, 1) starts at: 2 and ends at: 3\n",
      "  j3:\n",
      "    j3_op1(m2, 1) starts at: 0 and ends at: 1\n",
      "    j3_op2(m3, 1) starts at: 1 and ends at: 2\n",
      "\n",
      "probability:  0.0849609375 is valid:  False\n",
      "jssp1 solution with makespan None\n",
      "  j1:\n",
      "    j1_op1(m1, 1) starts at: 0 and ends at: 1\n",
      "    j1_op2(m2, 1) starts at: 1 and ends at: 2\n",
      "    j1_op3(m3, 1) starts at: 3 and ends at: 4\n",
      "  j2:\n",
      "    j2_op1(m3, 1) starts at: 0 and ends at: 1\n",
      "    j2_op2(m2, 1) starts at: 1 and ends at: 2\n",
      "    j2_op3(m1, 1) starts at: 2 and ends at: 3\n",
      "  j3:\n",
      "    j3_op1(m2, 1) starts at: 0 and ends at: 1\n",
      "    j3_op2(m3, 1) starts at: 1 and ends at: 2\n",
      "\n",
      "probability:  0.0908203125 is valid:  False\n",
      "jssp1 solution with makespan None\n",
      "  j1:\n",
      "    j1_op1(m1, 1) starts at: 0 and ends at: 1\n",
      "    j1_op2(m2, 1) starts at: 2 and ends at: 3\n",
      "    j1_op3(m3, 1) starts at: 2 and ends at: 3\n",
      "  j2:\n",
      "    j2_op1(m3, 1) starts at: 0 and ends at: 1\n",
      "    j2_op2(m2, 1) starts at: 1 and ends at: 2\n",
      "    j2_op3(m1, 1) starts at: 2 and ends at: 3\n",
      "  j3:\n",
      "    j3_op1(m2, 1) starts at: 0 and ends at: 1\n",
      "    j3_op2(m3, 1) starts at: 1 and ends at: 2\n",
      "\n"
     ]
    }
   ],
   "source": [
    "solutions = []\n",
    "for bitstring, probability in quasi_distribution.items():\n",
    "    if probability < 0.05:\n",
    "        continue\n",
    "\n",
    "    solution = encoder.translate_result_bitstring(bitstring=bitstring)\n",
    "\n",
    "    print(\"probability: \", probability, \"is valid: \", solution.is_valid)\n",
    "    print(solution)\n",
    "    if solution.is_valid:\n",
    "        solutions.append(solution)"
   ],
   "metadata": {
    "collapsed": false
   }
  },
  {
   "cell_type": "markdown",
   "source": [
    "## Visualize the result (optional)"
   ],
   "metadata": {
    "collapsed": false
   }
  },
  {
   "cell_type": "code",
   "execution_count": 10,
   "outputs": [
    {
     "data": {
      "text/plain": "<Figure size 640x480 with 1 Axes>",
      "image/png": "[encoded data removed]"
     },
     "metadata": {},
     "output_type": "display_data"
    }
   ],
   "source": [
    "from queasars.job_shop_scheduling.visualization import plot_jssp_problem_solution_gantt\n",
    "\n",
    "for solution in solutions:\n",
    "    plot = plot_jssp_problem_solution_gantt(result=solution)"
   ],
   "metadata": {
    "collapsed": false
   }
  }
 ],
 "metadata": {
  "kernelspec": {
   "display_name": "Python 3 (ipykernel)",
   "language": "python",
   "name": "python3"
  },
  "language_info": {
   "codemirror_mode": {
    "name": "ipython",
    "version": 3
   },
   "file_extension": ".py",
   "mimetype": "text/x-python",
   "name": "python",
   "nbconvert_exporter": "python",
   "pygments_lexer": "ipython3",
   "version": "3.11.1"
  }
 },
 "nbformat": 4,
 "nbformat_minor": 4
}
